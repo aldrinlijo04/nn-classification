{
  "cells": [
    {
      "cell_type": "code",
      "execution_count": 402,
      "metadata": {
        "id": "6VXHvq8i-Rlz"
      },
      "outputs": [],
      "source": [
        "import pandas as pd\n",
        "import numpy as np\n",
        "import seaborn as sns\n",
        "import pickle\n",
        "import matplotlib.pyplot as plt\n",
        "from sklearn.preprocessing import OrdinalEncoder\n",
        "from sklearn.preprocessing import LabelEncoder\n",
        "from sklearn.preprocessing import OneHotEncoder\n",
        "from sklearn.model_selection import train_test_split\n",
        "from sklearn.preprocessing import MinMaxScaler\n",
        "from sklearn.metrics import confusion_matrix,classification_report\n",
        "import tensorflow as tf\n",
        "from tensorflow.keras.losses import CategoricalCrossentropy\n",
        "from tensorflow.keras.models import Sequential,load_model\n",
        "from tensorflow.keras.layers import Dense,Dropout"
      ]
    },
    {
      "cell_type": "code",
      "execution_count": 326,
      "metadata": {
        "id": "rSfbcJCJ-cS0"
      },
      "outputs": [],
      "source": [
        "data = pd.read_csv(\"/content/drive/MyDrive/DL exp/exp 02/customers.csv\")"
      ]
    },
    {
      "cell_type": "code",
      "source": [
        "df = data.copy()"
      ],
      "metadata": {
        "id": "RU_F_zubduLc"
      },
      "execution_count": 327,
      "outputs": []
    },
    {
      "cell_type": "code",
      "source": [
        "df.head()"
      ],
      "metadata": {
        "colab": {
          "base_uri": "https://localhost:8080/",
          "height": 226
        },
        "id": "k1irLLW7dzZC",
        "outputId": "f856b379-117b-49de-f035-fa48d26f3525"
      },
      "execution_count": 328,
      "outputs": [
        {
          "output_type": "execute_result",
          "data": {
            "text/plain": [
              "       ID  Gender Ever_Married  Age Graduated     Profession  Work_Experience  \\\n",
              "0  462809    Male           No   22        No     Healthcare              1.0   \n",
              "1  462643  Female          Yes   38       Yes       Engineer              NaN   \n",
              "2  466315  Female          Yes   67       Yes       Engineer              1.0   \n",
              "3  461735    Male          Yes   67       Yes         Lawyer              0.0   \n",
              "4  462669  Female          Yes   40       Yes  Entertainment              NaN   \n",
              "\n",
              "  Spending_Score  Family_Size  Var_1 Segmentation  \n",
              "0            Low          4.0  Cat_4            D  \n",
              "1        Average          3.0  Cat_4            A  \n",
              "2            Low          1.0  Cat_6            B  \n",
              "3           High          2.0  Cat_6            B  \n",
              "4           High          6.0  Cat_6            A  "
            ],
            "text/html": [
              "\n",
              "  <div id=\"df-83f5904c-dd24-4238-aff4-2f84ef067727\" class=\"colab-df-container\">\n",
              "    <div>\n",
              "<style scoped>\n",
              "    .dataframe tbody tr th:only-of-type {\n",
              "        vertical-align: middle;\n",
              "    }\n",
              "\n",
              "    .dataframe tbody tr th {\n",
              "        vertical-align: top;\n",
              "    }\n",
              "\n",
              "    .dataframe thead th {\n",
              "        text-align: right;\n",
              "    }\n",
              "</style>\n",
              "<table border=\"1\" class=\"dataframe\">\n",
              "  <thead>\n",
              "    <tr style=\"text-align: right;\">\n",
              "      <th></th>\n",
              "      <th>ID</th>\n",
              "      <th>Gender</th>\n",
              "      <th>Ever_Married</th>\n",
              "      <th>Age</th>\n",
              "      <th>Graduated</th>\n",
              "      <th>Profession</th>\n",
              "      <th>Work_Experience</th>\n",
              "      <th>Spending_Score</th>\n",
              "      <th>Family_Size</th>\n",
              "      <th>Var_1</th>\n",
              "      <th>Segmentation</th>\n",
              "    </tr>\n",
              "  </thead>\n",
              "  <tbody>\n",
              "    <tr>\n",
              "      <th>0</th>\n",
              "      <td>462809</td>\n",
              "      <td>Male</td>\n",
              "      <td>No</td>\n",
              "      <td>22</td>\n",
              "      <td>No</td>\n",
              "      <td>Healthcare</td>\n",
              "      <td>1.0</td>\n",
              "      <td>Low</td>\n",
              "      <td>4.0</td>\n",
              "      <td>Cat_4</td>\n",
              "      <td>D</td>\n",
              "    </tr>\n",
              "    <tr>\n",
              "      <th>1</th>\n",
              "      <td>462643</td>\n",
              "      <td>Female</td>\n",
              "      <td>Yes</td>\n",
              "      <td>38</td>\n",
              "      <td>Yes</td>\n",
              "      <td>Engineer</td>\n",
              "      <td>NaN</td>\n",
              "      <td>Average</td>\n",
              "      <td>3.0</td>\n",
              "      <td>Cat_4</td>\n",
              "      <td>A</td>\n",
              "    </tr>\n",
              "    <tr>\n",
              "      <th>2</th>\n",
              "      <td>466315</td>\n",
              "      <td>Female</td>\n",
              "      <td>Yes</td>\n",
              "      <td>67</td>\n",
              "      <td>Yes</td>\n",
              "      <td>Engineer</td>\n",
              "      <td>1.0</td>\n",
              "      <td>Low</td>\n",
              "      <td>1.0</td>\n",
              "      <td>Cat_6</td>\n",
              "      <td>B</td>\n",
              "    </tr>\n",
              "    <tr>\n",
              "      <th>3</th>\n",
              "      <td>461735</td>\n",
              "      <td>Male</td>\n",
              "      <td>Yes</td>\n",
              "      <td>67</td>\n",
              "      <td>Yes</td>\n",
              "      <td>Lawyer</td>\n",
              "      <td>0.0</td>\n",
              "      <td>High</td>\n",
              "      <td>2.0</td>\n",
              "      <td>Cat_6</td>\n",
              "      <td>B</td>\n",
              "    </tr>\n",
              "    <tr>\n",
              "      <th>4</th>\n",
              "      <td>462669</td>\n",
              "      <td>Female</td>\n",
              "      <td>Yes</td>\n",
              "      <td>40</td>\n",
              "      <td>Yes</td>\n",
              "      <td>Entertainment</td>\n",
              "      <td>NaN</td>\n",
              "      <td>High</td>\n",
              "      <td>6.0</td>\n",
              "      <td>Cat_6</td>\n",
              "      <td>A</td>\n",
              "    </tr>\n",
              "  </tbody>\n",
              "</table>\n",
              "</div>\n",
              "    <div class=\"colab-df-buttons\">\n",
              "\n",
              "  <div class=\"colab-df-container\">\n",
              "    <button class=\"colab-df-convert\" onclick=\"convertToInteractive('df-83f5904c-dd24-4238-aff4-2f84ef067727')\"\n",
              "            title=\"Convert this dataframe to an interactive table.\"\n",
              "            style=\"display:none;\">\n",
              "\n",
              "  <svg xmlns=\"http://www.w3.org/2000/svg\" height=\"24px\" viewBox=\"0 -960 960 960\">\n",
              "    <path d=\"M120-120v-720h720v720H120Zm60-500h600v-160H180v160Zm220 220h160v-160H400v160Zm0 220h160v-160H400v160ZM180-400h160v-160H180v160Zm440 0h160v-160H620v160ZM180-180h160v-160H180v160Zm440 0h160v-160H620v160Z\"/>\n",
              "  </svg>\n",
              "    </button>\n",
              "\n",
              "  <style>\n",
              "    .colab-df-container {\n",
              "      display:flex;\n",
              "      gap: 12px;\n",
              "    }\n",
              "\n",
              "    .colab-df-convert {\n",
              "      background-color: #E8F0FE;\n",
              "      border: none;\n",
              "      border-radius: 50%;\n",
              "      cursor: pointer;\n",
              "      display: none;\n",
              "      fill: #1967D2;\n",
              "      height: 32px;\n",
              "      padding: 0 0 0 0;\n",
              "      width: 32px;\n",
              "    }\n",
              "\n",
              "    .colab-df-convert:hover {\n",
              "      background-color: #E2EBFA;\n",
              "      box-shadow: 0px 1px 2px rgba(60, 64, 67, 0.3), 0px 1px 3px 1px rgba(60, 64, 67, 0.15);\n",
              "      fill: #174EA6;\n",
              "    }\n",
              "\n",
              "    .colab-df-buttons div {\n",
              "      margin-bottom: 4px;\n",
              "    }\n",
              "\n",
              "    [theme=dark] .colab-df-convert {\n",
              "      background-color: #3B4455;\n",
              "      fill: #D2E3FC;\n",
              "    }\n",
              "\n",
              "    [theme=dark] .colab-df-convert:hover {\n",
              "      background-color: #434B5C;\n",
              "      box-shadow: 0px 1px 3px 1px rgba(0, 0, 0, 0.15);\n",
              "      filter: drop-shadow(0px 1px 2px rgba(0, 0, 0, 0.3));\n",
              "      fill: #FFFFFF;\n",
              "    }\n",
              "  </style>\n",
              "\n",
              "    <script>\n",
              "      const buttonEl =\n",
              "        document.querySelector('#df-83f5904c-dd24-4238-aff4-2f84ef067727 button.colab-df-convert');\n",
              "      buttonEl.style.display =\n",
              "        google.colab.kernel.accessAllowed ? 'block' : 'none';\n",
              "\n",
              "      async function convertToInteractive(key) {\n",
              "        const element = document.querySelector('#df-83f5904c-dd24-4238-aff4-2f84ef067727');\n",
              "        const dataTable =\n",
              "          await google.colab.kernel.invokeFunction('convertToInteractive',\n",
              "                                                    [key], {});\n",
              "        if (!dataTable) return;\n",
              "\n",
              "        const docLinkHtml = 'Like what you see? Visit the ' +\n",
              "          '<a target=\"_blank\" href=https://colab.research.google.com/notebooks/data_table.ipynb>data table notebook</a>'\n",
              "          + ' to learn more about interactive tables.';\n",
              "        element.innerHTML = '';\n",
              "        dataTable['output_type'] = 'display_data';\n",
              "        await google.colab.output.renderOutput(dataTable, element);\n",
              "        const docLink = document.createElement('div');\n",
              "        docLink.innerHTML = docLinkHtml;\n",
              "        element.appendChild(docLink);\n",
              "      }\n",
              "    </script>\n",
              "  </div>\n",
              "\n",
              "\n",
              "<div id=\"df-038dec81-e481-4729-84f2-be1c30cfd847\">\n",
              "  <button class=\"colab-df-quickchart\" onclick=\"quickchart('df-038dec81-e481-4729-84f2-be1c30cfd847')\"\n",
              "            title=\"Suggest charts\"\n",
              "            style=\"display:none;\">\n",
              "\n",
              "<svg xmlns=\"http://www.w3.org/2000/svg\" height=\"24px\"viewBox=\"0 0 24 24\"\n",
              "     width=\"24px\">\n",
              "    <g>\n",
              "        <path d=\"M19 3H5c-1.1 0-2 .9-2 2v14c0 1.1.9 2 2 2h14c1.1 0 2-.9 2-2V5c0-1.1-.9-2-2-2zM9 17H7v-7h2v7zm4 0h-2V7h2v10zm4 0h-2v-4h2v4z\"/>\n",
              "    </g>\n",
              "</svg>\n",
              "  </button>\n",
              "\n",
              "<style>\n",
              "  .colab-df-quickchart {\n",
              "      --bg-color: #E8F0FE;\n",
              "      --fill-color: #1967D2;\n",
              "      --hover-bg-color: #E2EBFA;\n",
              "      --hover-fill-color: #174EA6;\n",
              "      --disabled-fill-color: #AAA;\n",
              "      --disabled-bg-color: #DDD;\n",
              "  }\n",
              "\n",
              "  [theme=dark] .colab-df-quickchart {\n",
              "      --bg-color: #3B4455;\n",
              "      --fill-color: #D2E3FC;\n",
              "      --hover-bg-color: #434B5C;\n",
              "      --hover-fill-color: #FFFFFF;\n",
              "      --disabled-bg-color: #3B4455;\n",
              "      --disabled-fill-color: #666;\n",
              "  }\n",
              "\n",
              "  .colab-df-quickchart {\n",
              "    background-color: var(--bg-color);\n",
              "    border: none;\n",
              "    border-radius: 50%;\n",
              "    cursor: pointer;\n",
              "    display: none;\n",
              "    fill: var(--fill-color);\n",
              "    height: 32px;\n",
              "    padding: 0;\n",
              "    width: 32px;\n",
              "  }\n",
              "\n",
              "  .colab-df-quickchart:hover {\n",
              "    background-color: var(--hover-bg-color);\n",
              "    box-shadow: 0 1px 2px rgba(60, 64, 67, 0.3), 0 1px 3px 1px rgba(60, 64, 67, 0.15);\n",
              "    fill: var(--button-hover-fill-color);\n",
              "  }\n",
              "\n",
              "  .colab-df-quickchart-complete:disabled,\n",
              "  .colab-df-quickchart-complete:disabled:hover {\n",
              "    background-color: var(--disabled-bg-color);\n",
              "    fill: var(--disabled-fill-color);\n",
              "    box-shadow: none;\n",
              "  }\n",
              "\n",
              "  .colab-df-spinner {\n",
              "    border: 2px solid var(--fill-color);\n",
              "    border-color: transparent;\n",
              "    border-bottom-color: var(--fill-color);\n",
              "    animation:\n",
              "      spin 1s steps(1) infinite;\n",
              "  }\n",
              "\n",
              "  @keyframes spin {\n",
              "    0% {\n",
              "      border-color: transparent;\n",
              "      border-bottom-color: var(--fill-color);\n",
              "      border-left-color: var(--fill-color);\n",
              "    }\n",
              "    20% {\n",
              "      border-color: transparent;\n",
              "      border-left-color: var(--fill-color);\n",
              "      border-top-color: var(--fill-color);\n",
              "    }\n",
              "    30% {\n",
              "      border-color: transparent;\n",
              "      border-left-color: var(--fill-color);\n",
              "      border-top-color: var(--fill-color);\n",
              "      border-right-color: var(--fill-color);\n",
              "    }\n",
              "    40% {\n",
              "      border-color: transparent;\n",
              "      border-right-color: var(--fill-color);\n",
              "      border-top-color: var(--fill-color);\n",
              "    }\n",
              "    60% {\n",
              "      border-color: transparent;\n",
              "      border-right-color: var(--fill-color);\n",
              "    }\n",
              "    80% {\n",
              "      border-color: transparent;\n",
              "      border-right-color: var(--fill-color);\n",
              "      border-bottom-color: var(--fill-color);\n",
              "    }\n",
              "    90% {\n",
              "      border-color: transparent;\n",
              "      border-bottom-color: var(--fill-color);\n",
              "    }\n",
              "  }\n",
              "</style>\n",
              "\n",
              "  <script>\n",
              "    async function quickchart(key) {\n",
              "      const quickchartButtonEl =\n",
              "        document.querySelector('#' + key + ' button');\n",
              "      quickchartButtonEl.disabled = true;  // To prevent multiple clicks.\n",
              "      quickchartButtonEl.classList.add('colab-df-spinner');\n",
              "      try {\n",
              "        const charts = await google.colab.kernel.invokeFunction(\n",
              "            'suggestCharts', [key], {});\n",
              "      } catch (error) {\n",
              "        console.error('Error during call to suggestCharts:', error);\n",
              "      }\n",
              "      quickchartButtonEl.classList.remove('colab-df-spinner');\n",
              "      quickchartButtonEl.classList.add('colab-df-quickchart-complete');\n",
              "    }\n",
              "    (() => {\n",
              "      let quickchartButtonEl =\n",
              "        document.querySelector('#df-038dec81-e481-4729-84f2-be1c30cfd847 button');\n",
              "      quickchartButtonEl.style.display =\n",
              "        google.colab.kernel.accessAllowed ? 'block' : 'none';\n",
              "    })();\n",
              "  </script>\n",
              "</div>\n",
              "\n",
              "    </div>\n",
              "  </div>\n"
            ],
            "application/vnd.google.colaboratory.intrinsic+json": {
              "type": "dataframe",
              "variable_name": "df",
              "summary": "{\n  \"name\": \"df\",\n  \"rows\": 10695,\n  \"fields\": [\n    {\n      \"column\": \"ID\",\n      \"properties\": {\n        \"dtype\": \"number\",\n        \"std\": 2600,\n        \"min\": 458982,\n        \"max\": 467974,\n        \"num_unique_values\": 8363,\n        \"samples\": [\n          464796,\n          465198,\n          461563\n        ],\n        \"semantic_type\": \"\",\n        \"description\": \"\"\n      }\n    },\n    {\n      \"column\": \"Gender\",\n      \"properties\": {\n        \"dtype\": \"category\",\n        \"num_unique_values\": 2,\n        \"samples\": [\n          \"Female\",\n          \"Male\"\n        ],\n        \"semantic_type\": \"\",\n        \"description\": \"\"\n      }\n    },\n    {\n      \"column\": \"Ever_Married\",\n      \"properties\": {\n        \"dtype\": \"category\",\n        \"num_unique_values\": 2,\n        \"samples\": [\n          \"Yes\",\n          \"No\"\n        ],\n        \"semantic_type\": \"\",\n        \"description\": \"\"\n      }\n    },\n    {\n      \"column\": \"Age\",\n      \"properties\": {\n        \"dtype\": \"number\",\n        \"std\": 16,\n        \"min\": 18,\n        \"max\": 89,\n        \"num_unique_values\": 67,\n        \"samples\": [\n          30,\n          49\n        ],\n        \"semantic_type\": \"\",\n        \"description\": \"\"\n      }\n    },\n    {\n      \"column\": \"Graduated\",\n      \"properties\": {\n        \"dtype\": \"category\",\n        \"num_unique_values\": 2,\n        \"samples\": [\n          \"Yes\",\n          \"No\"\n        ],\n        \"semantic_type\": \"\",\n        \"description\": \"\"\n      }\n    },\n    {\n      \"column\": \"Profession\",\n      \"properties\": {\n        \"dtype\": \"category\",\n        \"num_unique_values\": 9,\n        \"samples\": [\n          \"Homemaker\",\n          \"Engineer\"\n        ],\n        \"semantic_type\": \"\",\n        \"description\": \"\"\n      }\n    },\n    {\n      \"column\": \"Work_Experience\",\n      \"properties\": {\n        \"dtype\": \"number\",\n        \"std\": 3.3907895488161914,\n        \"min\": 0.0,\n        \"max\": 14.0,\n        \"num_unique_values\": 15,\n        \"samples\": [\n          14.0,\n          2.0\n        ],\n        \"semantic_type\": \"\",\n        \"description\": \"\"\n      }\n    },\n    {\n      \"column\": \"Spending_Score\",\n      \"properties\": {\n        \"dtype\": \"category\",\n        \"num_unique_values\": 3,\n        \"samples\": [\n          \"Low\",\n          \"Average\"\n        ],\n        \"semantic_type\": \"\",\n        \"description\": \"\"\n      }\n    },\n    {\n      \"column\": \"Family_Size\",\n      \"properties\": {\n        \"dtype\": \"number\",\n        \"std\": 1.5364271953729582,\n        \"min\": 1.0,\n        \"max\": 9.0,\n        \"num_unique_values\": 9,\n        \"samples\": [\n          7.0,\n          3.0\n        ],\n        \"semantic_type\": \"\",\n        \"description\": \"\"\n      }\n    },\n    {\n      \"column\": \"Var_1\",\n      \"properties\": {\n        \"dtype\": \"category\",\n        \"num_unique_values\": 7,\n        \"samples\": [\n          \"Cat_4\",\n          \"Cat_6\"\n        ],\n        \"semantic_type\": \"\",\n        \"description\": \"\"\n      }\n    },\n    {\n      \"column\": \"Segmentation\",\n      \"properties\": {\n        \"dtype\": \"category\",\n        \"num_unique_values\": 4,\n        \"samples\": [\n          \"A\",\n          \"C\"\n        ],\n        \"semantic_type\": \"\",\n        \"description\": \"\"\n      }\n    }\n  ]\n}"
            }
          },
          "metadata": {},
          "execution_count": 328
        }
      ]
    },
    {
      "cell_type": "code",
      "source": [
        "df.isnull().columns"
      ],
      "metadata": {
        "colab": {
          "base_uri": "https://localhost:8080/"
        },
        "id": "dZHJ3vrSgJJU",
        "outputId": "ef22eeaf-a321-45ec-f1b1-7f297ed84221"
      },
      "execution_count": 329,
      "outputs": [
        {
          "output_type": "execute_result",
          "data": {
            "text/plain": [
              "Index(['ID', 'Gender', 'Ever_Married', 'Age', 'Graduated', 'Profession',\n",
              "       'Work_Experience', 'Spending_Score', 'Family_Size', 'Var_1',\n",
              "       'Segmentation'],\n",
              "      dtype='object')"
            ]
          },
          "metadata": {},
          "execution_count": 329
        }
      ]
    },
    {
      "cell_type": "code",
      "source": [
        "plt.figure(figsize=(10,10))\n",
        "sns.histplot(df.isnull().sum())"
      ],
      "metadata": {
        "colab": {
          "base_uri": "https://localhost:8080/",
          "height": 835
        },
        "id": "Yo4FFVtOha4W",
        "outputId": "de89a592-be1e-449a-b8d7-dbdce504768a"
      },
      "execution_count": 330,
      "outputs": [
        {
          "output_type": "execute_result",
          "data": {
            "text/plain": [
              "<Axes: ylabel='Count'>"
            ]
          },
          "metadata": {},
          "execution_count": 330
        },
        {
          "output_type": "display_data",
          "data": {
            "text/plain": [
              "<Figure size 1000x1000 with 1 Axes>"
            ],
            "image/png": "[encoded data removed]"
          },
          "metadata": {}
        }
      ]
    },
    {
      "cell_type": "code",
      "source": [
        "target = df[['Segmentation']].values"
      ],
      "metadata": {
        "id": "yckKZe73jBYG"
      },
      "execution_count": 331,
      "outputs": []
    },
    {
      "cell_type": "code",
      "source": [
        "df = df.drop('Segmentation',axis=1)"
      ],
      "metadata": {
        "id": "bspfQfNFoVYv"
      },
      "execution_count": 332,
      "outputs": []
    },
    {
      "cell_type": "code",
      "source": [
        "df.isnull().sum()"
      ],
      "metadata": {
        "colab": {
          "base_uri": "https://localhost:8080/"
        },
        "id": "qRUyUXCQjl4c",
        "outputId": "08bb9fc7-783d-42ca-c7dd-538d7df7a2fb"
      },
      "execution_count": 333,
      "outputs": [
        {
          "output_type": "execute_result",
          "data": {
            "text/plain": [
              "ID                    0\n",
              "Gender                0\n",
              "Ever_Married        190\n",
              "Age                   0\n",
              "Graduated           102\n",
              "Profession          162\n",
              "Work_Experience    1098\n",
              "Spending_Score        0\n",
              "Family_Size         448\n",
              "Var_1               108\n",
              "dtype: int64"
            ]
          },
          "metadata": {},
          "execution_count": 333
        }
      ]
    },
    {
      "cell_type": "code",
      "source": [
        "R = OrdinalEncoder()"
      ],
      "metadata": {
        "id": "JB4KXEAGhmY8"
      },
      "execution_count": 334,
      "outputs": []
    },
    {
      "cell_type": "code",
      "source": [
        "columns_unique = df.select_dtypes(include=['object'])"
      ],
      "metadata": {
        "id": "LOqYQBObirL-"
      },
      "execution_count": 335,
      "outputs": []
    },
    {
      "cell_type": "code",
      "source": [
        "columns_unique.columns\n",
        "cat_cols = []\n",
        "for i in columns_unique.columns:\n",
        "  cat_cols.append(i)"
      ],
      "metadata": {
        "id": "KCAYbC66i2Ru"
      },
      "execution_count": 336,
      "outputs": []
    },
    {
      "cell_type": "code",
      "source": [
        "cat_cols"
      ],
      "metadata": {
        "colab": {
          "base_uri": "https://localhost:8080/"
        },
        "id": "dJ7P1QhwiXiz",
        "outputId": "bad98290-fa7f-417a-8f1e-fe33c365bfec"
      },
      "execution_count": 337,
      "outputs": [
        {
          "output_type": "execute_result",
          "data": {
            "text/plain": [
              "['Gender',\n",
              " 'Ever_Married',\n",
              " 'Graduated',\n",
              " 'Profession',\n",
              " 'Spending_Score',\n",
              " 'Var_1']"
            ]
          },
          "metadata": {},
          "execution_count": 337
        }
      ]
    },
    {
      "cell_type": "code",
      "source": [
        "df[cat_cols] = R.fit_transform(df[cat_cols])"
      ],
      "metadata": {
        "id": "P6FpoB5Imgpe"
      },
      "execution_count": 338,
      "outputs": []
    },
    {
      "cell_type": "code",
      "source": [
        "df.head()"
      ],
      "metadata": {
        "colab": {
          "base_uri": "https://localhost:8080/",
          "height": 226
        },
        "id": "sTb8tGECnrp8",
        "outputId": "f981bbe3-432a-48e0-c28a-75aceaa658c3"
      },
      "execution_count": 339,
      "outputs": [
        {
          "output_type": "execute_result",
          "data": {
            "text/plain": [
              "       ID  Gender  Ever_Married  Age  Graduated  Profession  Work_Experience  \\\n",
              "0  462809     1.0           0.0   22        0.0         5.0              1.0   \n",
              "1  462643     0.0           1.0   38        1.0         2.0              NaN   \n",
              "2  466315     0.0           1.0   67        1.0         2.0              1.0   \n",
              "3  461735     1.0           1.0   67        1.0         7.0              0.0   \n",
              "4  462669     0.0           1.0   40        1.0         3.0              NaN   \n",
              "\n",
              "   Spending_Score  Family_Size  Var_1  \n",
              "0             2.0          4.0    3.0  \n",
              "1             0.0          3.0    3.0  \n",
              "2             2.0          1.0    5.0  \n",
              "3             1.0          2.0    5.0  \n",
              "4             1.0          6.0    5.0  "
            ],
            "text/html": [
              "\n",
              "  <div id=\"df-c28a5405-41aa-46a7-9c93-0ba8b401e3fd\" class=\"colab-df-container\">\n",
              "    <div>\n",
              "<style scoped>\n",
              "    .dataframe tbody tr th:only-of-type {\n",
              "        vertical-align: middle;\n",
              "    }\n",
              "\n",
              "    .dataframe tbody tr th {\n",
              "        vertical-align: top;\n",
              "    }\n",
              "\n",
              "    .dataframe thead th {\n",
              "        text-align: right;\n",
              "    }\n",
              "</style>\n",
              "<table border=\"1\" class=\"dataframe\">\n",
              "  <thead>\n",
              "    <tr style=\"text-align: right;\">\n",
              "      <th></th>\n",
              "      <th>ID</th>\n",
              "      <th>Gender</th>\n",
              "      <th>Ever_Married</th>\n",
              "      <th>Age</th>\n",
              "      <th>Graduated</th>\n",
              "      <th>Profession</th>\n",
              "      <th>Work_Experience</th>\n",
              "      <th>Spending_Score</th>\n",
              "      <th>Family_Size</th>\n",
              "      <th>Var_1</th>\n",
              "    </tr>\n",
              "  </thead>\n",
              "  <tbody>\n",
              "    <tr>\n",
              "      <th>0</th>\n",
              "      <td>462809</td>\n",
              "      <td>1.0</td>\n",
              "      <td>0.0</td>\n",
              "      <td>22</td>\n",
              "      <td>0.0</td>\n",
              "      <td>5.0</td>\n",
              "      <td>1.0</td>\n",
              "      <td>2.0</td>\n",
              "      <td>4.0</td>\n",
              "      <td>3.0</td>\n",
              "    </tr>\n",
              "    <tr>\n",
              "      <th>1</th>\n",
              "      <td>462643</td>\n",
              "      <td>0.0</td>\n",
              "      <td>1.0</td>\n",
              "      <td>38</td>\n",
              "      <td>1.0</td>\n",
              "      <td>2.0</td>\n",
              "      <td>NaN</td>\n",
              "      <td>0.0</td>\n",
              "      <td>3.0</td>\n",
              "      <td>3.0</td>\n",
              "    </tr>\n",
              "    <tr>\n",
              "      <th>2</th>\n",
              "      <td>466315</td>\n",
              "      <td>0.0</td>\n",
              "      <td>1.0</td>\n",
              "      <td>67</td>\n",
              "      <td>1.0</td>\n",
              "      <td>2.0</td>\n",
              "      <td>1.0</td>\n",
              "      <td>2.0</td>\n",
              "      <td>1.0</td>\n",
              "      <td>5.0</td>\n",
              "    </tr>\n",
              "    <tr>\n",
              "      <th>3</th>\n",
              "      <td>461735</td>\n",
              "      <td>1.0</td>\n",
              "      <td>1.0</td>\n",
              "      <td>67</td>\n",
              "      <td>1.0</td>\n",
              "      <td>7.0</td>\n",
              "      <td>0.0</td>\n",
              "      <td>1.0</td>\n",
              "      <td>2.0</td>\n",
              "      <td>5.0</td>\n",
              "    </tr>\n",
              "    <tr>\n",
              "      <th>4</th>\n",
              "      <td>462669</td>\n",
              "      <td>0.0</td>\n",
              "      <td>1.0</td>\n",
              "      <td>40</td>\n",
              "      <td>1.0</td>\n",
              "      <td>3.0</td>\n",
              "      <td>NaN</td>\n",
              "      <td>1.0</td>\n",
              "      <td>6.0</td>\n",
              "      <td>5.0</td>\n",
              "    </tr>\n",
              "  </tbody>\n",
              "</table>\n",
              "</div>\n",
              "    <div class=\"colab-df-buttons\">\n",
              "\n",
              "  <div class=\"colab-df-container\">\n",
              "    <button class=\"colab-df-convert\" onclick=\"convertToInteractive('df-c28a5405-41aa-46a7-9c93-0ba8b401e3fd')\"\n",
              "            title=\"Convert this dataframe to an interactive table.\"\n",
              "            style=\"display:none;\">\n",
              "\n",
              "  <svg xmlns=\"http://www.w3.org/2000/svg\" height=\"24px\" viewBox=\"0 -960 960 960\">\n",
              "    <path d=\"M120-120v-720h720v720H120Zm60-500h600v-160H180v160Zm220 220h160v-160H400v160Zm0 220h160v-160H400v160ZM180-400h160v-160H180v160Zm440 0h160v-160H620v160ZM180-180h160v-160H180v160Zm440 0h160v-160H620v160Z\"/>\n",
              "  </svg>\n",
              "    </button>\n",
              "\n",
              "  <style>\n",
              "    .colab-df-container {\n",
              "      display:flex;\n",
              "      gap: 12px;\n",
              "    }\n",
              "\n",
              "    .colab-df-convert {\n",
              "      background-color: #E8F0FE;\n",
              "      border: none;\n",
              "      border-radius: 50%;\n",
              "      cursor: pointer;\n",
              "      display: none;\n",
              "      fill: #1967D2;\n",
              "      height: 32px;\n",
              "      padding: 0 0 0 0;\n",
              "      width: 32px;\n",
              "    }\n",
              "\n",
              "    .colab-df-convert:hover {\n",
              "      background-color: #E2EBFA;\n",
              "      box-shadow: 0px 1px 2px rgba(60, 64, 67, 0.3), 0px 1px 3px 1px rgba(60, 64, 67, 0.15);\n",
              "      fill: #174EA6;\n",
              "    }\n",
              "\n",
              "    .colab-df-buttons div {\n",
              "      margin-bottom: 4px;\n",
              "    }\n",
              "\n",
              "    [theme=dark] .colab-df-convert {\n",
              "      background-color: #3B4455;\n",
              "      fill: #D2E3FC;\n",
              "    }\n",
              "\n",
              "    [theme=dark] .colab-df-convert:hover {\n",
              "      background-color: #434B5C;\n",
              "      box-shadow: 0px 1px 3px 1px rgba(0, 0, 0, 0.15);\n",
              "      filter: drop-shadow(0px 1px 2px rgba(0, 0, 0, 0.3));\n",
              "      fill: #FFFFFF;\n",
              "    }\n",
              "  </style>\n",
              "\n",
              "    <script>\n",
              "      const buttonEl =\n",
              "        document.querySelector('#df-c28a5405-41aa-46a7-9c93-0ba8b401e3fd button.colab-df-convert');\n",
              "      buttonEl.style.display =\n",
              "        google.colab.kernel.accessAllowed ? 'block' : 'none';\n",
              "\n",
              "      async function convertToInteractive(key) {\n",
              "        const element = document.querySelector('#df-c28a5405-41aa-46a7-9c93-0ba8b401e3fd');\n",
              "        const dataTable =\n",
              "          await google.colab.kernel.invokeFunction('convertToInteractive',\n",
              "                                                    [key], {});\n",
              "        if (!dataTable) return;\n",
              "\n",
              "        const docLinkHtml = 'Like what you see? Visit the ' +\n",
              "          '<a target=\"_blank\" href=https://colab.research.google.com/notebooks/data_table.ipynb>data table notebook</a>'\n",
              "          + ' to learn more about interactive tables.';\n",
              "        element.innerHTML = '';\n",
              "        dataTable['output_type'] = 'display_data';\n",
              "        await google.colab.output.renderOutput(dataTable, element);\n",
              "        const docLink = document.createElement('div');\n",
              "        docLink.innerHTML = docLinkHtml;\n",
              "        element.appendChild(docLink);\n",
              "      }\n",
              "    </script>\n",
              "  </div>\n",
              "\n",
              "\n",
              "<div id=\"df-bd5c461e-1e13-4a25-87ba-6ee58a41b972\">\n",
              "  <button class=\"colab-df-quickchart\" onclick=\"quickchart('df-bd5c461e-1e13-4a25-87ba-6ee58a41b972')\"\n",
              "            title=\"Suggest charts\"\n",
              "            style=\"display:none;\">\n",
              "\n",
              "<svg xmlns=\"http://www.w3.org/2000/svg\" height=\"24px\"viewBox=\"0 0 24 24\"\n",
              "     width=\"24px\">\n",
              "    <g>\n",
              "        <path d=\"M19 3H5c-1.1 0-2 .9-2 2v14c0 1.1.9 2 2 2h14c1.1 0 2-.9 2-2V5c0-1.1-.9-2-2-2zM9 17H7v-7h2v7zm4 0h-2V7h2v10zm4 0h-2v-4h2v4z\"/>\n",
              "    </g>\n",
              "</svg>\n",
              "  </button>\n",
              "\n",
              "<style>\n",
              "  .colab-df-quickchart {\n",
              "      --bg-color: #E8F0FE;\n",
              "      --fill-color: #1967D2;\n",
              "      --hover-bg-color: #E2EBFA;\n",
              "      --hover-fill-color: #174EA6;\n",
              "      --disabled-fill-color: #AAA;\n",
              "      --disabled-bg-color: #DDD;\n",
              "  }\n",
              "\n",
              "  [theme=dark] .colab-df-quickchart {\n",
              "      --bg-color: #3B4455;\n",
              "      --fill-color: #D2E3FC;\n",
              "      --hover-bg-color: #434B5C;\n",
              "      --hover-fill-color: #FFFFFF;\n",
              "      --disabled-bg-color: #3B4455;\n",
              "      --disabled-fill-color: #666;\n",
              "  }\n",
              "\n",
              "  .colab-df-quickchart {\n",
              "    background-color: var(--bg-color);\n",
              "    border: none;\n",
              "    border-radius: 50%;\n",
              "    cursor: pointer;\n",
              "    display: none;\n",
              "    fill: var(--fill-color);\n",
              "    height: 32px;\n",
              "    padding: 0;\n",
              "    width: 32px;\n",
              "  }\n",
              "\n",
              "  .colab-df-quickchart:hover {\n",
              "    background-color: var(--hover-bg-color);\n",
              "    box-shadow: 0 1px 2px rgba(60, 64, 67, 0.3), 0 1px 3px 1px rgba(60, 64, 67, 0.15);\n",
              "    fill: var(--button-hover-fill-color);\n",
              "  }\n",
              "\n",
              "  .colab-df-quickchart-complete:disabled,\n",
              "  .colab-df-quickchart-complete:disabled:hover {\n",
              "    background-color: var(--disabled-bg-color);\n",
              "    fill: var(--disabled-fill-color);\n",
              "    box-shadow: none;\n",
              "  }\n",
              "\n",
              "  .colab-df-spinner {\n",
              "    border: 2px solid var(--fill-color);\n",
              "    border-color: transparent;\n",
              "    border-bottom-color: var(--fill-color);\n",
              "    animation:\n",
              "      spin 1s steps(1) infinite;\n",
              "  }\n",
              "\n",
              "  @keyframes spin {\n",
              "    0% {\n",
              "      border-color: transparent;\n",
              "      border-bottom-color: var(--fill-color);\n",
              "      border-left-color: var(--fill-color);\n",
              "    }\n",
              "    20% {\n",
              "      border-color: transparent;\n",
              "      border-left-color: var(--fill-color);\n",
              "      border-top-color: var(--fill-color);\n",
              "    }\n",
              "    30% {\n",
              "      border-color: transparent;\n",
              "      border-left-color: var(--fill-color);\n",
              "      border-top-color: var(--fill-color);\n",
              "      border-right-color: var(--fill-color);\n",
              "    }\n",
              "    40% {\n",
              "      border-color: transparent;\n",
              "      border-right-color: var(--fill-color);\n",
              "      border-top-color: var(--fill-color);\n",
              "    }\n",
              "    60% {\n",
              "      border-color: transparent;\n",
              "      border-right-color: var(--fill-color);\n",
              "    }\n",
              "    80% {\n",
              "      border-color: transparent;\n",
              "      border-right-color: var(--fill-color);\n",
              "      border-bottom-color: var(--fill-color);\n",
              "    }\n",
              "    90% {\n",
              "      border-color: transparent;\n",
              "      border-bottom-color: var(--fill-color);\n",
              "    }\n",
              "  }\n",
              "</style>\n",
              "\n",
              "  <script>\n",
              "    async function quickchart(key) {\n",
              "      const quickchartButtonEl =\n",
              "        document.querySelector('#' + key + ' button');\n",
              "      quickchartButtonEl.disabled = true;  // To prevent multiple clicks.\n",
              "      quickchartButtonEl.classList.add('colab-df-spinner');\n",
              "      try {\n",
              "        const charts = await google.colab.kernel.invokeFunction(\n",
              "            'suggestCharts', [key], {});\n",
              "      } catch (error) {\n",
              "        console.error('Error during call to suggestCharts:', error);\n",
              "      }\n",
              "      quickchartButtonEl.classList.remove('colab-df-spinner');\n",
              "      quickchartButtonEl.classList.add('colab-df-quickchart-complete');\n",
              "    }\n",
              "    (() => {\n",
              "      let quickchartButtonEl =\n",
              "        document.querySelector('#df-bd5c461e-1e13-4a25-87ba-6ee58a41b972 button');\n",
              "      quickchartButtonEl.style.display =\n",
              "        google.colab.kernel.accessAllowed ? 'block' : 'none';\n",
              "    })();\n",
              "  </script>\n",
              "</div>\n",
              "\n",
              "    </div>\n",
              "  </div>\n"
            ],
            "application/vnd.google.colaboratory.intrinsic+json": {
              "type": "dataframe",
              "variable_name": "df",
              "summary": "{\n  \"name\": \"df\",\n  \"rows\": 10695,\n  \"fields\": [\n    {\n      \"column\": \"ID\",\n      \"properties\": {\n        \"dtype\": \"number\",\n        \"std\": 2600,\n        \"min\": 458982,\n        \"max\": 467974,\n        \"num_unique_values\": 8363,\n        \"samples\": [\n          464796,\n          465198,\n          461563\n        ],\n        \"semantic_type\": \"\",\n        \"description\": \"\"\n      }\n    },\n    {\n      \"column\": \"Gender\",\n      \"properties\": {\n        \"dtype\": \"number\",\n        \"std\": 0.4978895427085678,\n        \"min\": 0.0,\n        \"max\": 1.0,\n        \"num_unique_values\": 2,\n        \"samples\": [\n          0.0,\n          1.0\n        ],\n        \"semantic_type\": \"\",\n        \"description\": \"\"\n      }\n    },\n    {\n      \"column\": \"Ever_Married\",\n      \"properties\": {\n        \"dtype\": \"number\",\n        \"std\": 0.4924539309661987,\n        \"min\": 0.0,\n        \"max\": 1.0,\n        \"num_unique_values\": 2,\n        \"samples\": [\n          1.0,\n          0.0\n        ],\n        \"semantic_type\": \"\",\n        \"description\": \"\"\n      }\n    },\n    {\n      \"column\": \"Age\",\n      \"properties\": {\n        \"dtype\": \"number\",\n        \"std\": 16,\n        \"min\": 18,\n        \"max\": 89,\n        \"num_unique_values\": 67,\n        \"samples\": [\n          30,\n          49\n        ],\n        \"semantic_type\": \"\",\n        \"description\": \"\"\n      }\n    },\n    {\n      \"column\": \"Graduated\",\n      \"properties\": {\n        \"dtype\": \"number\",\n        \"std\": 0.48535468809181287,\n        \"min\": 0.0,\n        \"max\": 1.0,\n        \"num_unique_values\": 2,\n        \"samples\": [\n          1.0,\n          0.0\n        ],\n        \"semantic_type\": \"\",\n        \"description\": \"\"\n      }\n    },\n    {\n      \"column\": \"Profession\",\n      \"properties\": {\n        \"dtype\": \"number\",\n        \"std\": 2.548517335847807,\n        \"min\": 0.0,\n        \"max\": 8.0,\n        \"num_unique_values\": 9,\n        \"samples\": [\n          6.0,\n          2.0\n        ],\n        \"semantic_type\": \"\",\n        \"description\": \"\"\n      }\n    },\n    {\n      \"column\": \"Work_Experience\",\n      \"properties\": {\n        \"dtype\": \"number\",\n        \"std\": 3.3907895488161914,\n        \"min\": 0.0,\n        \"max\": 14.0,\n        \"num_unique_values\": 15,\n        \"samples\": [\n          14.0,\n          2.0\n        ],\n        \"semantic_type\": \"\",\n        \"description\": \"\"\n      }\n    },\n    {\n      \"column\": \"Spending_Score\",\n      \"properties\": {\n        \"dtype\": \"number\",\n        \"std\": 0.8471386805743774,\n        \"min\": 0.0,\n        \"max\": 2.0,\n        \"num_unique_values\": 3,\n        \"samples\": [\n          2.0,\n          0.0\n        ],\n        \"semantic_type\": \"\",\n        \"description\": \"\"\n      }\n    },\n    {\n      \"column\": \"Family_Size\",\n      \"properties\": {\n        \"dtype\": \"number\",\n        \"std\": 1.5364271953729582,\n        \"min\": 1.0,\n        \"max\": 9.0,\n        \"num_unique_values\": 9,\n        \"samples\": [\n          7.0,\n          3.0\n        ],\n        \"semantic_type\": \"\",\n        \"description\": \"\"\n      }\n    },\n    {\n      \"column\": \"Var_1\",\n      \"properties\": {\n        \"dtype\": \"number\",\n        \"std\": 1.4205011859909487,\n        \"min\": 0.0,\n        \"max\": 6.0,\n        \"num_unique_values\": 7,\n        \"samples\": [\n          3.0,\n          5.0\n        ],\n        \"semantic_type\": \"\",\n        \"description\": \"\"\n      }\n    }\n  ]\n}"
            }
          },
          "metadata": {},
          "execution_count": 339
        }
      ]
    },
    {
      "cell_type": "code",
      "source": [
        "df.fillna(df.mean(), inplace = True)"
      ],
      "metadata": {
        "id": "BJbQPScjnud4"
      },
      "execution_count": 340,
      "outputs": []
    },
    {
      "cell_type": "code",
      "source": [
        "df.isnull().sum()"
      ],
      "metadata": {
        "colab": {
          "base_uri": "https://localhost:8080/"
        },
        "id": "JqIk59PelAfu",
        "outputId": "b7959d58-1c09-4b27-9b87-1e7ede43a7ff"
      },
      "execution_count": 341,
      "outputs": [
        {
          "output_type": "execute_result",
          "data": {
            "text/plain": [
              "ID                 0\n",
              "Gender             0\n",
              "Ever_Married       0\n",
              "Age                0\n",
              "Graduated          0\n",
              "Profession         0\n",
              "Work_Experience    0\n",
              "Spending_Score     0\n",
              "Family_Size        0\n",
              "Var_1              0\n",
              "dtype: int64"
            ]
          },
          "metadata": {},
          "execution_count": 341
        }
      ]
    },
    {
      "cell_type": "code",
      "source": [
        "type(target)"
      ],
      "metadata": {
        "colab": {
          "base_uri": "https://localhost:8080/"
        },
        "id": "H7gE1iZen1it",
        "outputId": "0a1b47a8-ecb9-4d44-fc61-e909f2440171"
      },
      "execution_count": 342,
      "outputs": [
        {
          "output_type": "execute_result",
          "data": {
            "text/plain": [
              "numpy.ndarray"
            ]
          },
          "metadata": {},
          "execution_count": 342
        }
      ]
    },
    {
      "cell_type": "code",
      "source": [
        "O = OneHotEncoder()\n",
        "target = O.fit_transform(target).toarray()"
      ],
      "metadata": {
        "id": "K9dmPui1mZ12"
      },
      "execution_count": 343,
      "outputs": []
    },
    {
      "cell_type": "code",
      "source": [
        "df.shape"
      ],
      "metadata": {
        "colab": {
          "base_uri": "https://localhost:8080/"
        },
        "id": "jKzF3X7qm2un",
        "outputId": "5de8005e-f5d5-4e45-9e6e-fb08d30d811d"
      },
      "execution_count": 344,
      "outputs": [
        {
          "output_type": "execute_result",
          "data": {
            "text/plain": [
              "(10695, 10)"
            ]
          },
          "metadata": {},
          "execution_count": 344
        }
      ]
    },
    {
      "cell_type": "code",
      "source": [
        "X_train,X_test,y_train,y_test = train_test_split(df,target,test_size=0.3, random_state = 49)"
      ],
      "metadata": {
        "id": "AEG7lmpJmjSc"
      },
      "execution_count": 345,
      "outputs": []
    },
    {
      "cell_type": "code",
      "source": [
        "M = MinMaxScaler()\n",
        "X_train = M.fit_transform(X_train)\n",
        "X_test = M.fit(X_test)"
      ],
      "metadata": {
        "id": "up5GiGn2mlgG"
      },
      "execution_count": 411,
      "outputs": []
    },
    {
      "cell_type": "code",
      "source": [
        "X_train.shape"
      ],
      "metadata": {
        "colab": {
          "base_uri": "https://localhost:8080/"
        },
        "id": "ooif2IS5nECf",
        "outputId": "8eaee651-c916-41ba-b2a4-2741f77a26af"
      },
      "execution_count": 347,
      "outputs": [
        {
          "output_type": "execute_result",
          "data": {
            "text/plain": [
              "(7486, 10)"
            ]
          },
          "metadata": {},
          "execution_count": 347
        }
      ]
    },
    {
      "cell_type": "code",
      "source": [
        "model = Sequential()"
      ],
      "metadata": {
        "id": "MglgNvS3o_1i"
      },
      "execution_count": 380,
      "outputs": []
    },
    {
      "cell_type": "code",
      "source": [
        "model.add(Dense(10,activation = 'relu', input_shape=(X_train.shape[1],)))\n",
        "model.add(Dense(5, activation = 'relu'))\n",
        "model.add(Dense(4,activation = 'softmax'))"
      ],
      "metadata": {
        "id": "gOh8filJpFpE"
      },
      "execution_count": 381,
      "outputs": []
    },
    {
      "cell_type": "code",
      "source": [
        "model.summary()"
      ],
      "metadata": {
        "colab": {
          "base_uri": "https://localhost:8080/"
        },
        "id": "sFAB8iHJpvde",
        "outputId": "4f409641-5b6b-4e1f-b4e2-b06e3730ae1a"
      },
      "execution_count": 382,
      "outputs": [
        {
          "output_type": "stream",
          "name": "stdout",
          "text": [
            "Model: \"sequential_10\"\n",
            "_________________________________________________________________\n",
            " Layer (type)                Output Shape              Param #   \n",
            "=================================================================\n",
            " dense_48 (Dense)            (None, 18)                198       \n",
            "                                                                 \n",
            " dense_49 (Dense)            (None, 9)                 171       \n",
            "                                                                 \n",
            " dense_50 (Dense)            (None, 4)                 40        \n",
            "                                                                 \n",
            "=================================================================\n",
            "Total params: 409 (1.60 KB)\n",
            "Trainable params: 409 (1.60 KB)\n",
            "Non-trainable params: 0 (0.00 Byte)\n",
            "_________________________________________________________________\n"
          ]
        }
      ]
    },
    {
      "cell_type": "code",
      "source": [
        "model.compile('adam',loss = CategoricalCrossentropy(), metrics = ['accuracy'])"
      ],
      "metadata": {
        "id": "dYVlvu31qv0J"
      },
      "execution_count": 383,
      "outputs": []
    },
    {
      "cell_type": "code",
      "source": [
        "model.fit(X_train,y_train,epochs=200,validation_data=(X_test,y_test))"
      ],
      "metadata": {
        "colab": {
          "base_uri": "https://localhost:8080/"
        },
        "id": "aj26FHinq-ka",
        "outputId": "a281f346-3ffc-469e-af75-0dfaf73dce00"
      },
      "execution_count": 384,
      "outputs": [
        {
          "output_type": "stream",
          "name": "stdout",
          "text": [
            "Epoch 1/200\n",
            "234/234 [==============================] - 2s 5ms/step - loss: 1.3378 - accuracy: 0.3617 - val_loss: 1.3003 - val_accuracy: 0.4089\n",
            "Epoch 2/200\n",
            "234/234 [==============================] - 1s 4ms/step - loss: 1.2700 - accuracy: 0.4275 - val_loss: 1.2556 - val_accuracy: 0.4285\n",
            "Epoch 3/200\n",
            "234/234 [==============================] - 1s 4ms/step - loss: 1.2392 - accuracy: 0.4467 - val_loss: 1.2335 - val_accuracy: 0.4425\n",
            "Epoch 4/200\n",
            "234/234 [==============================] - 1s 4ms/step - loss: 1.2230 - accuracy: 0.4515 - val_loss: 1.2221 - val_accuracy: 0.4466\n",
            "Epoch 5/200\n",
            "234/234 [==============================] - 1s 6ms/step - loss: 1.2143 - accuracy: 0.4578 - val_loss: 1.2139 - val_accuracy: 0.4562\n",
            "Epoch 6/200\n",
            "234/234 [==============================] - 1s 5ms/step - loss: 1.2095 - accuracy: 0.4587 - val_loss: 1.2083 - val_accuracy: 0.4618\n",
            "Epoch 7/200\n",
            "234/234 [==============================] - 1s 4ms/step - loss: 1.2052 - accuracy: 0.4601 - val_loss: 1.2061 - val_accuracy: 0.4615\n",
            "Epoch 8/200\n",
            "234/234 [==============================] - 1s 6ms/step - loss: 1.2022 - accuracy: 0.4651 - val_loss: 1.2022 - val_accuracy: 0.4706\n",
            "Epoch 9/200\n",
            "234/234 [==============================] - 1s 5ms/step - loss: 1.2008 - accuracy: 0.4686 - val_loss: 1.2010 - val_accuracy: 0.4668\n",
            "Epoch 10/200\n",
            "234/234 [==============================] - 1s 4ms/step - loss: 1.1992 - accuracy: 0.4653 - val_loss: 1.1998 - val_accuracy: 0.4665\n",
            "Epoch 11/200\n",
            "234/234 [==============================] - 1s 4ms/step - loss: 1.1967 - accuracy: 0.4706 - val_loss: 1.1997 - val_accuracy: 0.4662\n",
            "Epoch 12/200\n",
            "234/234 [==============================] - 1s 4ms/step - loss: 1.1967 - accuracy: 0.4721 - val_loss: 1.1973 - val_accuracy: 0.4777\n",
            "Epoch 13/200\n",
            "234/234 [==============================] - 1s 4ms/step - loss: 1.1937 - accuracy: 0.4733 - val_loss: 1.1971 - val_accuracy: 0.4762\n",
            "Epoch 14/200\n",
            "234/234 [==============================] - 1s 4ms/step - loss: 1.1925 - accuracy: 0.4733 - val_loss: 1.1945 - val_accuracy: 0.4758\n",
            "Epoch 15/200\n",
            "234/234 [==============================] - 1s 4ms/step - loss: 1.1910 - accuracy: 0.4733 - val_loss: 1.1942 - val_accuracy: 0.4762\n",
            "Epoch 16/200\n",
            "234/234 [==============================] - 1s 4ms/step - loss: 1.1901 - accuracy: 0.4725 - val_loss: 1.1960 - val_accuracy: 0.4774\n",
            "Epoch 17/200\n",
            "234/234 [==============================] - 1s 6ms/step - loss: 1.1901 - accuracy: 0.4725 - val_loss: 1.1975 - val_accuracy: 0.4709\n",
            "Epoch 18/200\n",
            "234/234 [==============================] - 1s 6ms/step - loss: 1.1877 - accuracy: 0.4745 - val_loss: 1.1956 - val_accuracy: 0.4758\n",
            "Epoch 19/200\n",
            "234/234 [==============================] - 1s 5ms/step - loss: 1.1867 - accuracy: 0.4773 - val_loss: 1.1948 - val_accuracy: 0.4765\n",
            "Epoch 20/200\n",
            "234/234 [==============================] - 1s 4ms/step - loss: 1.1854 - accuracy: 0.4789 - val_loss: 1.1938 - val_accuracy: 0.4737\n",
            "Epoch 21/200\n",
            "234/234 [==============================] - 1s 4ms/step - loss: 1.1853 - accuracy: 0.4792 - val_loss: 1.1927 - val_accuracy: 0.4780\n",
            "Epoch 22/200\n",
            "234/234 [==============================] - 1s 4ms/step - loss: 1.1832 - accuracy: 0.4784 - val_loss: 1.1918 - val_accuracy: 0.4746\n",
            "Epoch 23/200\n",
            "234/234 [==============================] - 1s 4ms/step - loss: 1.1827 - accuracy: 0.4804 - val_loss: 1.1934 - val_accuracy: 0.4771\n",
            "Epoch 24/200\n",
            "234/234 [==============================] - 1s 4ms/step - loss: 1.1816 - accuracy: 0.4794 - val_loss: 1.1940 - val_accuracy: 0.4768\n",
            "Epoch 25/200\n",
            "234/234 [==============================] - 1s 4ms/step - loss: 1.1809 - accuracy: 0.4804 - val_loss: 1.1937 - val_accuracy: 0.4715\n",
            "Epoch 26/200\n",
            "234/234 [==============================] - 1s 4ms/step - loss: 1.1804 - accuracy: 0.4802 - val_loss: 1.1946 - val_accuracy: 0.4730\n",
            "Epoch 27/200\n",
            "234/234 [==============================] - 1s 4ms/step - loss: 1.1793 - accuracy: 0.4818 - val_loss: 1.1923 - val_accuracy: 0.4737\n",
            "Epoch 28/200\n",
            "234/234 [==============================] - 1s 4ms/step - loss: 1.1791 - accuracy: 0.4793 - val_loss: 1.1941 - val_accuracy: 0.4730\n",
            "Epoch 29/200\n",
            "234/234 [==============================] - 1s 5ms/step - loss: 1.1778 - accuracy: 0.4818 - val_loss: 1.1932 - val_accuracy: 0.4780\n",
            "Epoch 30/200\n",
            "234/234 [==============================] - 1s 5ms/step - loss: 1.1780 - accuracy: 0.4805 - val_loss: 1.1937 - val_accuracy: 0.4777\n",
            "Epoch 31/200\n",
            "234/234 [==============================] - 1s 5ms/step - loss: 1.1770 - accuracy: 0.4814 - val_loss: 1.1916 - val_accuracy: 0.4746\n",
            "Epoch 32/200\n",
            "234/234 [==============================] - 1s 4ms/step - loss: 1.1778 - accuracy: 0.4845 - val_loss: 1.1915 - val_accuracy: 0.4818\n",
            "Epoch 33/200\n",
            "234/234 [==============================] - 1s 4ms/step - loss: 1.1764 - accuracy: 0.4814 - val_loss: 1.1922 - val_accuracy: 0.4799\n",
            "Epoch 34/200\n",
            "234/234 [==============================] - 1s 4ms/step - loss: 1.1760 - accuracy: 0.4818 - val_loss: 1.1918 - val_accuracy: 0.4768\n",
            "Epoch 35/200\n",
            "234/234 [==============================] - 1s 4ms/step - loss: 1.1747 - accuracy: 0.4846 - val_loss: 1.1951 - val_accuracy: 0.4734\n",
            "Epoch 36/200\n",
            "234/234 [==============================] - 1s 4ms/step - loss: 1.1745 - accuracy: 0.4805 - val_loss: 1.1899 - val_accuracy: 0.4793\n",
            "Epoch 37/200\n",
            "234/234 [==============================] - 1s 5ms/step - loss: 1.1744 - accuracy: 0.4801 - val_loss: 1.1924 - val_accuracy: 0.4808\n",
            "Epoch 38/200\n",
            "234/234 [==============================] - 1s 4ms/step - loss: 1.1737 - accuracy: 0.4821 - val_loss: 1.1994 - val_accuracy: 0.4730\n",
            "Epoch 39/200\n",
            "234/234 [==============================] - 1s 5ms/step - loss: 1.1730 - accuracy: 0.4820 - val_loss: 1.1935 - val_accuracy: 0.4755\n",
            "Epoch 40/200\n",
            "234/234 [==============================] - 1s 5ms/step - loss: 1.1730 - accuracy: 0.4828 - val_loss: 1.1940 - val_accuracy: 0.4631\n",
            "Epoch 41/200\n",
            "234/234 [==============================] - 2s 10ms/step - loss: 1.1733 - accuracy: 0.4836 - val_loss: 1.1933 - val_accuracy: 0.4771\n",
            "Epoch 42/200\n",
            "234/234 [==============================] - 1s 6ms/step - loss: 1.1727 - accuracy: 0.4804 - val_loss: 1.1910 - val_accuracy: 0.4771\n",
            "Epoch 43/200\n",
            "234/234 [==============================] - 1s 4ms/step - loss: 1.1718 - accuracy: 0.4801 - val_loss: 1.1929 - val_accuracy: 0.4793\n",
            "Epoch 44/200\n",
            "234/234 [==============================] - 1s 4ms/step - loss: 1.1715 - accuracy: 0.4788 - val_loss: 1.1935 - val_accuracy: 0.4734\n",
            "Epoch 45/200\n",
            "234/234 [==============================] - 1s 4ms/step - loss: 1.1717 - accuracy: 0.4834 - val_loss: 1.1924 - val_accuracy: 0.4758\n",
            "Epoch 46/200\n",
            "234/234 [==============================] - 1s 4ms/step - loss: 1.1711 - accuracy: 0.4836 - val_loss: 1.1920 - val_accuracy: 0.4752\n",
            "Epoch 47/200\n",
            "234/234 [==============================] - 1s 4ms/step - loss: 1.1718 - accuracy: 0.4786 - val_loss: 1.1898 - val_accuracy: 0.4777\n",
            "Epoch 48/200\n",
            "234/234 [==============================] - 1s 4ms/step - loss: 1.1709 - accuracy: 0.4820 - val_loss: 1.1951 - val_accuracy: 0.4749\n",
            "Epoch 49/200\n",
            "234/234 [==============================] - 1s 4ms/step - loss: 1.1712 - accuracy: 0.4798 - val_loss: 1.1898 - val_accuracy: 0.4746\n",
            "Epoch 50/200\n",
            "234/234 [==============================] - 1s 4ms/step - loss: 1.1699 - accuracy: 0.4833 - val_loss: 1.1932 - val_accuracy: 0.4758\n",
            "Epoch 51/200\n",
            "234/234 [==============================] - 1s 4ms/step - loss: 1.1699 - accuracy: 0.4821 - val_loss: 1.1903 - val_accuracy: 0.4774\n",
            "Epoch 52/200\n",
            "234/234 [==============================] - 1s 4ms/step - loss: 1.1690 - accuracy: 0.4866 - val_loss: 1.1909 - val_accuracy: 0.4755\n",
            "Epoch 53/200\n",
            "234/234 [==============================] - 1s 5ms/step - loss: 1.1691 - accuracy: 0.4805 - val_loss: 1.1935 - val_accuracy: 0.4768\n",
            "Epoch 54/200\n",
            "234/234 [==============================] - 1s 6ms/step - loss: 1.1700 - accuracy: 0.4809 - val_loss: 1.1901 - val_accuracy: 0.4774\n",
            "Epoch 55/200\n",
            "234/234 [==============================] - 1s 6ms/step - loss: 1.1687 - accuracy: 0.4834 - val_loss: 1.1916 - val_accuracy: 0.4787\n",
            "Epoch 56/200\n",
            "234/234 [==============================] - 1s 6ms/step - loss: 1.1688 - accuracy: 0.4824 - val_loss: 1.1912 - val_accuracy: 0.4746\n",
            "Epoch 57/200\n",
            "234/234 [==============================] - 1s 4ms/step - loss: 1.1688 - accuracy: 0.4814 - val_loss: 1.1925 - val_accuracy: 0.4737\n",
            "Epoch 58/200\n",
            "234/234 [==============================] - 1s 4ms/step - loss: 1.1683 - accuracy: 0.4794 - val_loss: 1.1922 - val_accuracy: 0.4746\n",
            "Epoch 59/200\n",
            "234/234 [==============================] - 1s 4ms/step - loss: 1.1685 - accuracy: 0.4844 - val_loss: 1.1916 - val_accuracy: 0.4762\n",
            "Epoch 60/200\n",
            "234/234 [==============================] - 1s 4ms/step - loss: 1.1679 - accuracy: 0.4836 - val_loss: 1.1909 - val_accuracy: 0.4737\n",
            "Epoch 61/200\n",
            "234/234 [==============================] - 1s 4ms/step - loss: 1.1681 - accuracy: 0.4830 - val_loss: 1.1911 - val_accuracy: 0.4749\n",
            "Epoch 62/200\n",
            "234/234 [==============================] - 1s 4ms/step - loss: 1.1665 - accuracy: 0.4849 - val_loss: 1.1904 - val_accuracy: 0.4758\n",
            "Epoch 63/200\n",
            "234/234 [==============================] - 1s 4ms/step - loss: 1.1673 - accuracy: 0.4826 - val_loss: 1.1937 - val_accuracy: 0.4687\n",
            "Epoch 64/200\n",
            "234/234 [==============================] - 1s 4ms/step - loss: 1.1671 - accuracy: 0.4810 - val_loss: 1.1920 - val_accuracy: 0.4734\n",
            "Epoch 65/200\n",
            "234/234 [==============================] - 1s 6ms/step - loss: 1.1661 - accuracy: 0.4853 - val_loss: 1.1938 - val_accuracy: 0.4734\n",
            "Epoch 66/200\n",
            "234/234 [==============================] - 1s 6ms/step - loss: 1.1669 - accuracy: 0.4829 - val_loss: 1.1926 - val_accuracy: 0.4721\n",
            "Epoch 67/200\n",
            "234/234 [==============================] - 1s 4ms/step - loss: 1.1676 - accuracy: 0.4805 - val_loss: 1.1915 - val_accuracy: 0.4699\n",
            "Epoch 68/200\n",
            "234/234 [==============================] - 1s 4ms/step - loss: 1.1663 - accuracy: 0.4846 - val_loss: 1.1925 - val_accuracy: 0.4737\n",
            "Epoch 69/200\n",
            "234/234 [==============================] - 1s 4ms/step - loss: 1.1664 - accuracy: 0.4832 - val_loss: 1.1900 - val_accuracy: 0.4768\n",
            "Epoch 70/200\n",
            "234/234 [==============================] - 1s 4ms/step - loss: 1.1660 - accuracy: 0.4853 - val_loss: 1.1902 - val_accuracy: 0.4755\n",
            "Epoch 71/200\n",
            "234/234 [==============================] - 1s 4ms/step - loss: 1.1650 - accuracy: 0.4842 - val_loss: 1.1907 - val_accuracy: 0.4758\n",
            "Epoch 72/200\n",
            "234/234 [==============================] - 1s 4ms/step - loss: 1.1663 - accuracy: 0.4840 - val_loss: 1.1902 - val_accuracy: 0.4768\n",
            "Epoch 73/200\n",
            "234/234 [==============================] - 1s 4ms/step - loss: 1.1652 - accuracy: 0.4873 - val_loss: 1.1904 - val_accuracy: 0.4740\n",
            "Epoch 74/200\n",
            "234/234 [==============================] - 1s 4ms/step - loss: 1.1647 - accuracy: 0.4850 - val_loss: 1.1919 - val_accuracy: 0.4709\n",
            "Epoch 75/200\n",
            "234/234 [==============================] - 1s 4ms/step - loss: 1.1649 - accuracy: 0.4846 - val_loss: 1.1917 - val_accuracy: 0.4740\n",
            "Epoch 76/200\n",
            "234/234 [==============================] - 1s 4ms/step - loss: 1.1652 - accuracy: 0.4826 - val_loss: 1.1904 - val_accuracy: 0.4743\n",
            "Epoch 77/200\n",
            "234/234 [==============================] - 1s 5ms/step - loss: 1.1649 - accuracy: 0.4840 - val_loss: 1.1893 - val_accuracy: 0.4783\n",
            "Epoch 78/200\n",
            "234/234 [==============================] - 1s 5ms/step - loss: 1.1658 - accuracy: 0.4858 - val_loss: 1.1913 - val_accuracy: 0.4749\n",
            "Epoch 79/200\n",
            "234/234 [==============================] - 1s 5ms/step - loss: 1.1660 - accuracy: 0.4849 - val_loss: 1.1907 - val_accuracy: 0.4734\n",
            "Epoch 80/200\n",
            "234/234 [==============================] - 1s 4ms/step - loss: 1.1644 - accuracy: 0.4861 - val_loss: 1.1909 - val_accuracy: 0.4721\n",
            "Epoch 81/200\n",
            "234/234 [==============================] - 1s 4ms/step - loss: 1.1642 - accuracy: 0.4882 - val_loss: 1.1934 - val_accuracy: 0.4758\n",
            "Epoch 82/200\n",
            "234/234 [==============================] - 1s 4ms/step - loss: 1.1643 - accuracy: 0.4860 - val_loss: 1.1915 - val_accuracy: 0.4727\n",
            "Epoch 83/200\n",
            "234/234 [==============================] - 1s 4ms/step - loss: 1.1635 - accuracy: 0.4865 - val_loss: 1.1912 - val_accuracy: 0.4706\n",
            "Epoch 84/200\n",
            "234/234 [==============================] - 1s 4ms/step - loss: 1.1637 - accuracy: 0.4814 - val_loss: 1.1986 - val_accuracy: 0.4674\n",
            "Epoch 85/200\n",
            "234/234 [==============================] - 1s 4ms/step - loss: 1.1642 - accuracy: 0.4849 - val_loss: 1.1907 - val_accuracy: 0.4755\n",
            "Epoch 86/200\n",
            "234/234 [==============================] - 1s 4ms/step - loss: 1.1637 - accuracy: 0.4848 - val_loss: 1.1910 - val_accuracy: 0.4709\n",
            "Epoch 87/200\n",
            "234/234 [==============================] - 1s 4ms/step - loss: 1.1635 - accuracy: 0.4830 - val_loss: 1.1956 - val_accuracy: 0.4649\n",
            "Epoch 88/200\n",
            "234/234 [==============================] - 1s 4ms/step - loss: 1.1640 - accuracy: 0.4860 - val_loss: 1.1940 - val_accuracy: 0.4674\n",
            "Epoch 89/200\n",
            "234/234 [==============================] - 1s 4ms/step - loss: 1.1639 - accuracy: 0.4852 - val_loss: 1.1908 - val_accuracy: 0.4706\n",
            "Epoch 90/200\n",
            "234/234 [==============================] - 1s 6ms/step - loss: 1.1642 - accuracy: 0.4876 - val_loss: 1.1927 - val_accuracy: 0.4656\n",
            "Epoch 91/200\n",
            "234/234 [==============================] - 1s 6ms/step - loss: 1.1634 - accuracy: 0.4817 - val_loss: 1.1949 - val_accuracy: 0.4684\n",
            "Epoch 92/200\n",
            "234/234 [==============================] - 1s 4ms/step - loss: 1.1632 - accuracy: 0.4886 - val_loss: 1.1916 - val_accuracy: 0.4702\n",
            "Epoch 93/200\n",
            "234/234 [==============================] - 1s 4ms/step - loss: 1.1630 - accuracy: 0.4856 - val_loss: 1.1939 - val_accuracy: 0.4743\n",
            "Epoch 94/200\n",
            "234/234 [==============================] - 1s 4ms/step - loss: 1.1621 - accuracy: 0.4857 - val_loss: 1.1914 - val_accuracy: 0.4684\n",
            "Epoch 95/200\n",
            "234/234 [==============================] - 1s 4ms/step - loss: 1.1633 - accuracy: 0.4854 - val_loss: 1.1907 - val_accuracy: 0.4802\n",
            "Epoch 96/200\n",
            "234/234 [==============================] - 1s 4ms/step - loss: 1.1619 - accuracy: 0.4856 - val_loss: 1.1929 - val_accuracy: 0.4724\n",
            "Epoch 97/200\n",
            "234/234 [==============================] - 1s 4ms/step - loss: 1.1623 - accuracy: 0.4896 - val_loss: 1.1941 - val_accuracy: 0.4727\n",
            "Epoch 98/200\n",
            "234/234 [==============================] - 1s 4ms/step - loss: 1.1619 - accuracy: 0.4897 - val_loss: 1.1934 - val_accuracy: 0.4681\n",
            "Epoch 99/200\n",
            "234/234 [==============================] - 1s 4ms/step - loss: 1.1629 - accuracy: 0.4905 - val_loss: 1.1912 - val_accuracy: 0.4765\n",
            "Epoch 100/200\n",
            "234/234 [==============================] - 1s 4ms/step - loss: 1.1621 - accuracy: 0.4861 - val_loss: 1.1925 - val_accuracy: 0.4699\n",
            "Epoch 101/200\n",
            "234/234 [==============================] - 1s 4ms/step - loss: 1.1619 - accuracy: 0.4888 - val_loss: 1.1935 - val_accuracy: 0.4721\n",
            "Epoch 102/200\n",
            "234/234 [==============================] - 1s 5ms/step - loss: 1.1624 - accuracy: 0.4868 - val_loss: 1.1938 - val_accuracy: 0.4765\n",
            "Epoch 103/200\n",
            "234/234 [==============================] - 1s 5ms/step - loss: 1.1618 - accuracy: 0.4893 - val_loss: 1.1915 - val_accuracy: 0.4780\n",
            "Epoch 104/200\n",
            "234/234 [==============================] - 1s 4ms/step - loss: 1.1613 - accuracy: 0.4898 - val_loss: 1.1909 - val_accuracy: 0.4715\n",
            "Epoch 105/200\n",
            "234/234 [==============================] - 1s 4ms/step - loss: 1.1613 - accuracy: 0.4828 - val_loss: 1.1940 - val_accuracy: 0.4793\n",
            "Epoch 106/200\n",
            "234/234 [==============================] - 1s 4ms/step - loss: 1.1620 - accuracy: 0.4860 - val_loss: 1.1912 - val_accuracy: 0.4790\n",
            "Epoch 107/200\n",
            "234/234 [==============================] - 1s 4ms/step - loss: 1.1611 - accuracy: 0.4888 - val_loss: 1.1895 - val_accuracy: 0.4724\n",
            "Epoch 108/200\n",
            "234/234 [==============================] - 1s 4ms/step - loss: 1.1603 - accuracy: 0.4846 - val_loss: 1.1967 - val_accuracy: 0.4709\n",
            "Epoch 109/200\n",
            "234/234 [==============================] - 1s 5ms/step - loss: 1.1614 - accuracy: 0.4886 - val_loss: 1.1931 - val_accuracy: 0.4721\n",
            "Epoch 110/200\n",
            "234/234 [==============================] - 1s 4ms/step - loss: 1.1610 - accuracy: 0.4909 - val_loss: 1.1914 - val_accuracy: 0.4743\n",
            "Epoch 111/200\n",
            "234/234 [==============================] - 1s 4ms/step - loss: 1.1609 - accuracy: 0.4888 - val_loss: 1.1942 - val_accuracy: 0.4740\n",
            "Epoch 112/200\n",
            "234/234 [==============================] - 1s 4ms/step - loss: 1.1595 - accuracy: 0.4898 - val_loss: 1.1949 - val_accuracy: 0.4690\n",
            "Epoch 113/200\n",
            "234/234 [==============================] - 1s 4ms/step - loss: 1.1608 - accuracy: 0.4861 - val_loss: 1.1908 - val_accuracy: 0.4727\n",
            "Epoch 114/200\n",
            "234/234 [==============================] - 1s 5ms/step - loss: 1.1598 - accuracy: 0.4877 - val_loss: 1.1951 - val_accuracy: 0.4699\n",
            "Epoch 115/200\n",
            "234/234 [==============================] - 1s 6ms/step - loss: 1.1599 - accuracy: 0.4900 - val_loss: 1.1907 - val_accuracy: 0.4768\n",
            "Epoch 116/200\n",
            "234/234 [==============================] - 1s 5ms/step - loss: 1.1604 - accuracy: 0.4858 - val_loss: 1.1898 - val_accuracy: 0.4752\n",
            "Epoch 117/200\n",
            "234/234 [==============================] - 1s 4ms/step - loss: 1.1603 - accuracy: 0.4870 - val_loss: 1.1906 - val_accuracy: 0.4762\n",
            "Epoch 118/200\n",
            "234/234 [==============================] - 2s 9ms/step - loss: 1.1609 - accuracy: 0.4892 - val_loss: 1.1917 - val_accuracy: 0.4780\n",
            "Epoch 119/200\n",
            "234/234 [==============================] - 2s 8ms/step - loss: 1.1603 - accuracy: 0.4852 - val_loss: 1.1922 - val_accuracy: 0.4684\n",
            "Epoch 120/200\n",
            "234/234 [==============================] - 1s 5ms/step - loss: 1.1604 - accuracy: 0.4869 - val_loss: 1.1958 - val_accuracy: 0.4649\n",
            "Epoch 121/200\n",
            "234/234 [==============================] - 1s 4ms/step - loss: 1.1608 - accuracy: 0.4853 - val_loss: 1.1912 - val_accuracy: 0.4758\n",
            "Epoch 122/200\n",
            "234/234 [==============================] - 2s 7ms/step - loss: 1.1601 - accuracy: 0.4888 - val_loss: 1.1915 - val_accuracy: 0.4749\n",
            "Epoch 123/200\n",
            "234/234 [==============================] - 1s 5ms/step - loss: 1.1591 - accuracy: 0.4884 - val_loss: 1.1922 - val_accuracy: 0.4777\n",
            "Epoch 124/200\n",
            "234/234 [==============================] - 1s 6ms/step - loss: 1.1588 - accuracy: 0.4885 - val_loss: 1.1911 - val_accuracy: 0.4706\n",
            "Epoch 125/200\n",
            "234/234 [==============================] - 1s 6ms/step - loss: 1.1590 - accuracy: 0.4852 - val_loss: 1.1924 - val_accuracy: 0.4749\n",
            "Epoch 126/200\n",
            "234/234 [==============================] - 1s 4ms/step - loss: 1.1594 - accuracy: 0.4881 - val_loss: 1.1903 - val_accuracy: 0.4755\n",
            "Epoch 127/200\n",
            "234/234 [==============================] - 1s 4ms/step - loss: 1.1589 - accuracy: 0.4908 - val_loss: 1.1921 - val_accuracy: 0.4752\n",
            "Epoch 128/200\n",
            "234/234 [==============================] - 1s 4ms/step - loss: 1.1597 - accuracy: 0.4838 - val_loss: 1.1908 - val_accuracy: 0.4777\n",
            "Epoch 129/200\n",
            "234/234 [==============================] - 1s 4ms/step - loss: 1.1591 - accuracy: 0.4894 - val_loss: 1.1906 - val_accuracy: 0.4727\n",
            "Epoch 130/200\n",
            "234/234 [==============================] - 1s 4ms/step - loss: 1.1587 - accuracy: 0.4882 - val_loss: 1.1907 - val_accuracy: 0.4793\n",
            "Epoch 131/200\n",
            "234/234 [==============================] - 1s 4ms/step - loss: 1.1593 - accuracy: 0.4885 - val_loss: 1.1899 - val_accuracy: 0.4796\n",
            "Epoch 132/200\n",
            "234/234 [==============================] - 1s 4ms/step - loss: 1.1586 - accuracy: 0.4901 - val_loss: 1.1910 - val_accuracy: 0.4755\n",
            "Epoch 133/200\n",
            "234/234 [==============================] - 1s 5ms/step - loss: 1.1586 - accuracy: 0.4845 - val_loss: 1.1928 - val_accuracy: 0.4758\n",
            "Epoch 134/200\n",
            "234/234 [==============================] - 2s 6ms/step - loss: 1.1591 - accuracy: 0.4838 - val_loss: 1.1925 - val_accuracy: 0.4746\n",
            "Epoch 135/200\n",
            "234/234 [==============================] - 2s 9ms/step - loss: 1.1577 - accuracy: 0.4837 - val_loss: 1.1895 - val_accuracy: 0.4740\n",
            "Epoch 136/200\n",
            "234/234 [==============================] - 3s 12ms/step - loss: 1.1586 - accuracy: 0.4865 - val_loss: 1.1901 - val_accuracy: 0.4774\n",
            "Epoch 137/200\n",
            "234/234 [==============================] - 2s 7ms/step - loss: 1.1579 - accuracy: 0.4865 - val_loss: 1.1908 - val_accuracy: 0.4730\n",
            "Epoch 138/200\n",
            "234/234 [==============================] - 1s 4ms/step - loss: 1.1571 - accuracy: 0.4848 - val_loss: 1.1917 - val_accuracy: 0.4715\n",
            "Epoch 139/200\n",
            "234/234 [==============================] - 2s 7ms/step - loss: 1.1580 - accuracy: 0.4906 - val_loss: 1.1923 - val_accuracy: 0.4718\n",
            "Epoch 140/200\n",
            "234/234 [==============================] - 2s 9ms/step - loss: 1.1576 - accuracy: 0.4853 - val_loss: 1.1894 - val_accuracy: 0.4740\n",
            "Epoch 141/200\n",
            "234/234 [==============================] - 2s 8ms/step - loss: 1.1577 - accuracy: 0.4870 - val_loss: 1.1957 - val_accuracy: 0.4668\n",
            "Epoch 142/200\n",
            "234/234 [==============================] - 1s 5ms/step - loss: 1.1576 - accuracy: 0.4904 - val_loss: 1.1949 - val_accuracy: 0.4649\n",
            "Epoch 143/200\n",
            "234/234 [==============================] - 2s 9ms/step - loss: 1.1575 - accuracy: 0.4913 - val_loss: 1.1934 - val_accuracy: 0.4706\n",
            "Epoch 144/200\n",
            "234/234 [==============================] - 2s 8ms/step - loss: 1.1578 - accuracy: 0.4864 - val_loss: 1.1903 - val_accuracy: 0.4805\n",
            "Epoch 145/200\n",
            "234/234 [==============================] - 1s 4ms/step - loss: 1.1569 - accuracy: 0.4878 - val_loss: 1.1912 - val_accuracy: 0.4796\n",
            "Epoch 146/200\n",
            "234/234 [==============================] - 1s 4ms/step - loss: 1.1564 - accuracy: 0.4904 - val_loss: 1.1932 - val_accuracy: 0.4762\n",
            "Epoch 147/200\n",
            "234/234 [==============================] - 1s 4ms/step - loss: 1.1573 - accuracy: 0.4877 - val_loss: 1.1909 - val_accuracy: 0.4821\n",
            "Epoch 148/200\n",
            "234/234 [==============================] - 1s 4ms/step - loss: 1.1572 - accuracy: 0.4874 - val_loss: 1.1923 - val_accuracy: 0.4774\n",
            "Epoch 149/200\n",
            "234/234 [==============================] - 1s 4ms/step - loss: 1.1571 - accuracy: 0.4876 - val_loss: 1.1915 - val_accuracy: 0.4787\n",
            "Epoch 150/200\n",
            "234/234 [==============================] - 1s 4ms/step - loss: 1.1575 - accuracy: 0.4892 - val_loss: 1.1913 - val_accuracy: 0.4783\n",
            "Epoch 151/200\n",
            "234/234 [==============================] - 1s 4ms/step - loss: 1.1566 - accuracy: 0.4889 - val_loss: 1.1938 - val_accuracy: 0.4796\n",
            "Epoch 152/200\n",
            "234/234 [==============================] - 1s 4ms/step - loss: 1.1577 - accuracy: 0.4866 - val_loss: 1.1912 - val_accuracy: 0.4780\n",
            "Epoch 153/200\n",
            "234/234 [==============================] - 1s 4ms/step - loss: 1.1565 - accuracy: 0.4868 - val_loss: 1.1906 - val_accuracy: 0.4730\n",
            "Epoch 154/200\n",
            "234/234 [==============================] - 2s 7ms/step - loss: 1.1578 - accuracy: 0.4868 - val_loss: 1.1905 - val_accuracy: 0.4777\n",
            "Epoch 155/200\n",
            "234/234 [==============================] - 1s 6ms/step - loss: 1.1560 - accuracy: 0.4881 - val_loss: 1.1915 - val_accuracy: 0.4749\n",
            "Epoch 156/200\n",
            "234/234 [==============================] - 1s 5ms/step - loss: 1.1568 - accuracy: 0.4889 - val_loss: 1.1910 - val_accuracy: 0.4752\n",
            "Epoch 157/200\n",
            "234/234 [==============================] - 1s 4ms/step - loss: 1.1561 - accuracy: 0.4836 - val_loss: 1.1915 - val_accuracy: 0.4780\n",
            "Epoch 158/200\n",
            "234/234 [==============================] - 1s 5ms/step - loss: 1.1573 - accuracy: 0.4858 - val_loss: 1.1917 - val_accuracy: 0.4746\n",
            "Epoch 159/200\n",
            "234/234 [==============================] - 1s 4ms/step - loss: 1.1562 - accuracy: 0.4854 - val_loss: 1.1912 - val_accuracy: 0.4780\n",
            "Epoch 160/200\n",
            "234/234 [==============================] - 1s 6ms/step - loss: 1.1561 - accuracy: 0.4888 - val_loss: 1.1911 - val_accuracy: 0.4793\n",
            "Epoch 161/200\n",
            "234/234 [==============================] - 1s 6ms/step - loss: 1.1567 - accuracy: 0.4898 - val_loss: 1.1923 - val_accuracy: 0.4734\n",
            "Epoch 162/200\n",
            "234/234 [==============================] - 1s 6ms/step - loss: 1.1555 - accuracy: 0.4874 - val_loss: 1.1895 - val_accuracy: 0.4783\n",
            "Epoch 163/200\n",
            "234/234 [==============================] - 1s 4ms/step - loss: 1.1561 - accuracy: 0.4876 - val_loss: 1.1945 - val_accuracy: 0.4718\n",
            "Epoch 164/200\n",
            "234/234 [==============================] - 1s 4ms/step - loss: 1.1564 - accuracy: 0.4873 - val_loss: 1.1922 - val_accuracy: 0.4740\n",
            "Epoch 165/200\n",
            "234/234 [==============================] - 2s 8ms/step - loss: 1.1564 - accuracy: 0.4866 - val_loss: 1.1909 - val_accuracy: 0.4777\n",
            "Epoch 166/200\n",
            "234/234 [==============================] - 2s 9ms/step - loss: 1.1560 - accuracy: 0.4876 - val_loss: 1.1937 - val_accuracy: 0.4743\n",
            "Epoch 167/200\n",
            "234/234 [==============================] - 1s 4ms/step - loss: 1.1549 - accuracy: 0.4886 - val_loss: 1.1934 - val_accuracy: 0.4724\n",
            "Epoch 168/200\n",
            "234/234 [==============================] - 2s 7ms/step - loss: 1.1560 - accuracy: 0.4865 - val_loss: 1.1948 - val_accuracy: 0.4762\n",
            "Epoch 169/200\n",
            "234/234 [==============================] - 2s 7ms/step - loss: 1.1554 - accuracy: 0.4898 - val_loss: 1.1923 - val_accuracy: 0.4777\n",
            "Epoch 170/200\n",
            "234/234 [==============================] - 1s 4ms/step - loss: 1.1559 - accuracy: 0.4897 - val_loss: 1.1944 - val_accuracy: 0.4749\n",
            "Epoch 171/200\n",
            "234/234 [==============================] - 2s 8ms/step - loss: 1.1550 - accuracy: 0.4894 - val_loss: 1.1909 - val_accuracy: 0.4743\n",
            "Epoch 172/200\n",
            "234/234 [==============================] - 2s 7ms/step - loss: 1.1550 - accuracy: 0.4894 - val_loss: 1.1959 - val_accuracy: 0.4737\n",
            "Epoch 173/200\n",
            "234/234 [==============================] - 1s 6ms/step - loss: 1.1562 - accuracy: 0.4862 - val_loss: 1.1910 - val_accuracy: 0.4755\n",
            "Epoch 174/200\n",
            "234/234 [==============================] - 3s 11ms/step - loss: 1.1559 - accuracy: 0.4872 - val_loss: 1.1944 - val_accuracy: 0.4783\n",
            "Epoch 175/200\n",
            "234/234 [==============================] - 1s 6ms/step - loss: 1.1554 - accuracy: 0.4897 - val_loss: 1.1925 - val_accuracy: 0.4740\n",
            "Epoch 176/200\n",
            "234/234 [==============================] - 1s 6ms/step - loss: 1.1561 - accuracy: 0.4872 - val_loss: 1.1911 - val_accuracy: 0.4752\n",
            "Epoch 177/200\n",
            "234/234 [==============================] - 1s 6ms/step - loss: 1.1546 - accuracy: 0.4892 - val_loss: 1.1926 - val_accuracy: 0.4758\n",
            "Epoch 178/200\n",
            "234/234 [==============================] - 1s 5ms/step - loss: 1.1559 - accuracy: 0.4852 - val_loss: 1.1928 - val_accuracy: 0.4743\n",
            "Epoch 179/200\n",
            "234/234 [==============================] - 1s 6ms/step - loss: 1.1549 - accuracy: 0.4858 - val_loss: 1.1911 - val_accuracy: 0.4802\n",
            "Epoch 180/200\n",
            "234/234 [==============================] - 2s 8ms/step - loss: 1.1555 - accuracy: 0.4905 - val_loss: 1.1931 - val_accuracy: 0.4730\n",
            "Epoch 181/200\n",
            "234/234 [==============================] - 1s 6ms/step - loss: 1.1547 - accuracy: 0.4900 - val_loss: 1.1912 - val_accuracy: 0.4790\n",
            "Epoch 182/200\n",
            "234/234 [==============================] - 3s 11ms/step - loss: 1.1547 - accuracy: 0.4890 - val_loss: 1.1934 - val_accuracy: 0.4833\n",
            "Epoch 183/200\n",
            "234/234 [==============================] - 2s 10ms/step - loss: 1.1544 - accuracy: 0.4906 - val_loss: 1.1932 - val_accuracy: 0.4849\n",
            "Epoch 184/200\n",
            "234/234 [==============================] - 2s 7ms/step - loss: 1.1548 - accuracy: 0.4878 - val_loss: 1.1932 - val_accuracy: 0.4855\n",
            "Epoch 185/200\n",
            "234/234 [==============================] - 1s 6ms/step - loss: 1.1549 - accuracy: 0.4874 - val_loss: 1.1907 - val_accuracy: 0.4796\n",
            "Epoch 186/200\n",
            "234/234 [==============================] - 1s 5ms/step - loss: 1.1543 - accuracy: 0.4893 - val_loss: 1.1952 - val_accuracy: 0.4718\n",
            "Epoch 187/200\n",
            "234/234 [==============================] - 1s 6ms/step - loss: 1.1548 - accuracy: 0.4893 - val_loss: 1.1926 - val_accuracy: 0.4737\n",
            "Epoch 188/200\n",
            "234/234 [==============================] - 1s 5ms/step - loss: 1.1541 - accuracy: 0.4886 - val_loss: 1.1945 - val_accuracy: 0.4768\n",
            "Epoch 189/200\n",
            "234/234 [==============================] - 1s 5ms/step - loss: 1.1542 - accuracy: 0.4874 - val_loss: 1.1932 - val_accuracy: 0.4811\n",
            "Epoch 190/200\n",
            "234/234 [==============================] - 2s 8ms/step - loss: 1.1541 - accuracy: 0.4898 - val_loss: 1.1940 - val_accuracy: 0.4783\n",
            "Epoch 191/200\n",
            "234/234 [==============================] - 2s 9ms/step - loss: 1.1543 - accuracy: 0.4921 - val_loss: 1.1929 - val_accuracy: 0.4805\n",
            "Epoch 192/200\n",
            "234/234 [==============================] - 2s 7ms/step - loss: 1.1542 - accuracy: 0.4878 - val_loss: 1.1933 - val_accuracy: 0.4771\n",
            "Epoch 193/200\n",
            "234/234 [==============================] - 1s 5ms/step - loss: 1.1545 - accuracy: 0.4885 - val_loss: 1.1912 - val_accuracy: 0.4849\n",
            "Epoch 194/200\n",
            "234/234 [==============================] - 1s 4ms/step - loss: 1.1536 - accuracy: 0.4902 - val_loss: 1.1927 - val_accuracy: 0.4830\n",
            "Epoch 195/200\n",
            "234/234 [==============================] - 1s 4ms/step - loss: 1.1532 - accuracy: 0.4866 - val_loss: 1.1923 - val_accuracy: 0.4783\n",
            "Epoch 196/200\n",
            "234/234 [==============================] - 1s 4ms/step - loss: 1.1546 - accuracy: 0.4884 - val_loss: 1.1907 - val_accuracy: 0.4793\n",
            "Epoch 197/200\n",
            "234/234 [==============================] - 1s 4ms/step - loss: 1.1541 - accuracy: 0.4909 - val_loss: 1.1913 - val_accuracy: 0.4808\n",
            "Epoch 198/200\n",
            "234/234 [==============================] - 1s 4ms/step - loss: 1.1540 - accuracy: 0.4884 - val_loss: 1.1932 - val_accuracy: 0.4818\n",
            "Epoch 199/200\n",
            "234/234 [==============================] - 1s 4ms/step - loss: 1.1536 - accuracy: 0.4888 - val_loss: 1.1948 - val_accuracy: 0.4827\n",
            "Epoch 200/200\n",
            "234/234 [==============================] - 1s 4ms/step - loss: 1.1541 - accuracy: 0.4893 - val_loss: 1.1936 - val_accuracy: 0.4752\n"
          ]
        },
        {
          "output_type": "execute_result",
          "data": {
            "text/plain": [
              "<keras.src.callbacks.History at 0x7c614b5b5750>"
            ]
          },
          "metadata": {},
          "execution_count": 384
        }
      ]
    },
    {
      "cell_type": "code",
      "source": [
        "type(X_test)"
      ],
      "metadata": {
        "colab": {
          "base_uri": "https://localhost:8080/"
        },
        "id": "hqBQSD2ZrWbB",
        "outputId": "accc12bd-6583-41a4-b746-7b385a7e3a5b"
      },
      "execution_count": 386,
      "outputs": [
        {
          "output_type": "execute_result",
          "data": {
            "text/plain": [
              "numpy.ndarray"
            ]
          },
          "metadata": {},
          "execution_count": 386
        }
      ]
    },
    {
      "cell_type": "code",
      "source": [
        "metrics = pd.DataFrame(model.history.history)"
      ],
      "metadata": {
        "id": "Zw49m3mA7AXA"
      },
      "execution_count": 387,
      "outputs": []
    },
    {
      "cell_type": "code",
      "source": [
        "metrics.head()"
      ],
      "metadata": {
        "colab": {
          "base_uri": "https://localhost:8080/",
          "height": 206
        },
        "id": "DIeWuM7U7_69",
        "outputId": "ef9100d0-9f10-4cfc-ddb9-146c546323bd"
      },
      "execution_count": 388,
      "outputs": [
        {
          "output_type": "execute_result",
          "data": {
            "text/plain": [
              "       loss  accuracy  val_loss  val_accuracy\n",
              "0  1.337756  0.361742  1.300257      0.408850\n",
              "1  1.270007  0.427465  1.255590      0.428482\n",
              "2  1.239230  0.446701  1.233527      0.442505\n",
              "3  1.223001  0.451509  1.222072      0.446557\n",
              "4  1.214344  0.457788  1.213936      0.456217"
            ],
            "text/html": [
              "\n",
              "  <div id=\"df-342e8189-afa2-4487-afef-de66ab5ce5cb\" class=\"colab-df-container\">\n",
              "    <div>\n",
              "<style scoped>\n",
              "    .dataframe tbody tr th:only-of-type {\n",
              "        vertical-align: middle;\n",
              "    }\n",
              "\n",
              "    .dataframe tbody tr th {\n",
              "        vertical-align: top;\n",
              "    }\n",
              "\n",
              "    .dataframe thead th {\n",
              "        text-align: right;\n",
              "    }\n",
              "</style>\n",
              "<table border=\"1\" class=\"dataframe\">\n",
              "  <thead>\n",
              "    <tr style=\"text-align: right;\">\n",
              "      <th></th>\n",
              "      <th>loss</th>\n",
              "      <th>accuracy</th>\n",
              "      <th>val_loss</th>\n",
              "      <th>val_accuracy</th>\n",
              "    </tr>\n",
              "  </thead>\n",
              "  <tbody>\n",
              "    <tr>\n",
              "      <th>0</th>\n",
              "      <td>1.337756</td>\n",
              "      <td>0.361742</td>\n",
              "      <td>1.300257</td>\n",
              "      <td>0.408850</td>\n",
              "    </tr>\n",
              "    <tr>\n",
              "      <th>1</th>\n",
              "      <td>1.270007</td>\n",
              "      <td>0.427465</td>\n",
              "      <td>1.255590</td>\n",
              "      <td>0.428482</td>\n",
              "    </tr>\n",
              "    <tr>\n",
              "      <th>2</th>\n",
              "      <td>1.239230</td>\n",
              "      <td>0.446701</td>\n",
              "      <td>1.233527</td>\n",
              "      <td>0.442505</td>\n",
              "    </tr>\n",
              "    <tr>\n",
              "      <th>3</th>\n",
              "      <td>1.223001</td>\n",
              "      <td>0.451509</td>\n",
              "      <td>1.222072</td>\n",
              "      <td>0.446557</td>\n",
              "    </tr>\n",
              "    <tr>\n",
              "      <th>4</th>\n",
              "      <td>1.214344</td>\n",
              "      <td>0.457788</td>\n",
              "      <td>1.213936</td>\n",
              "      <td>0.456217</td>\n",
              "    </tr>\n",
              "  </tbody>\n",
              "</table>\n",
              "</div>\n",
              "    <div class=\"colab-df-buttons\">\n",
              "\n",
              "  <div class=\"colab-df-container\">\n",
              "    <button class=\"colab-df-convert\" onclick=\"convertToInteractive('df-342e8189-afa2-4487-afef-de66ab5ce5cb')\"\n",
              "            title=\"Convert this dataframe to an interactive table.\"\n",
              "            style=\"display:none;\">\n",
              "\n",
              "  <svg xmlns=\"http://www.w3.org/2000/svg\" height=\"24px\" viewBox=\"0 -960 960 960\">\n",
              "    <path d=\"M120-120v-720h720v720H120Zm60-500h600v-160H180v160Zm220 220h160v-160H400v160Zm0 220h160v-160H400v160ZM180-400h160v-160H180v160Zm440 0h160v-160H620v160ZM180-180h160v-160H180v160Zm440 0h160v-160H620v160Z\"/>\n",
              "  </svg>\n",
              "    </button>\n",
              "\n",
              "  <style>\n",
              "    .colab-df-container {\n",
              "      display:flex;\n",
              "      gap: 12px;\n",
              "    }\n",
              "\n",
              "    .colab-df-convert {\n",
              "      background-color: #E8F0FE;\n",
              "      border: none;\n",
              "      border-radius: 50%;\n",
              "      cursor: pointer;\n",
              "      display: none;\n",
              "      fill: #1967D2;\n",
              "      height: 32px;\n",
              "      padding: 0 0 0 0;\n",
              "      width: 32px;\n",
              "    }\n",
              "\n",
              "    .colab-df-convert:hover {\n",
              "      background-color: #E2EBFA;\n",
              "      box-shadow: 0px 1px 2px rgba(60, 64, 67, 0.3), 0px 1px 3px 1px rgba(60, 64, 67, 0.15);\n",
              "      fill: #174EA6;\n",
              "    }\n",
              "\n",
              "    .colab-df-buttons div {\n",
              "      margin-bottom: 4px;\n",
              "    }\n",
              "\n",
              "    [theme=dark] .colab-df-convert {\n",
              "      background-color: #3B4455;\n",
              "      fill: #D2E3FC;\n",
              "    }\n",
              "\n",
              "    [theme=dark] .colab-df-convert:hover {\n",
              "      background-color: #434B5C;\n",
              "      box-shadow: 0px 1px 3px 1px rgba(0, 0, 0, 0.15);\n",
              "      filter: drop-shadow(0px 1px 2px rgba(0, 0, 0, 0.3));\n",
              "      fill: #FFFFFF;\n",
              "    }\n",
              "  </style>\n",
              "\n",
              "    <script>\n",
              "      const buttonEl =\n",
              "        document.querySelector('#df-342e8189-afa2-4487-afef-de66ab5ce5cb button.colab-df-convert');\n",
              "      buttonEl.style.display =\n",
              "        google.colab.kernel.accessAllowed ? 'block' : 'none';\n",
              "\n",
              "      async function convertToInteractive(key) {\n",
              "        const element = document.querySelector('#df-342e8189-afa2-4487-afef-de66ab5ce5cb');\n",
              "        const dataTable =\n",
              "          await google.colab.kernel.invokeFunction('convertToInteractive',\n",
              "                                                    [key], {});\n",
              "        if (!dataTable) return;\n",
              "\n",
              "        const docLinkHtml = 'Like what you see? Visit the ' +\n",
              "          '<a target=\"_blank\" href=https://colab.research.google.com/notebooks/data_table.ipynb>data table notebook</a>'\n",
              "          + ' to learn more about interactive tables.';\n",
              "        element.innerHTML = '';\n",
              "        dataTable['output_type'] = 'display_data';\n",
              "        await google.colab.output.renderOutput(dataTable, element);\n",
              "        const docLink = document.createElement('div');\n",
              "        docLink.innerHTML = docLinkHtml;\n",
              "        element.appendChild(docLink);\n",
              "      }\n",
              "    </script>\n",
              "  </div>\n",
              "\n",
              "\n",
              "<div id=\"df-8b3a56e2-6282-4f79-b0a3-80e1eb0513b7\">\n",
              "  <button class=\"colab-df-quickchart\" onclick=\"quickchart('df-8b3a56e2-6282-4f79-b0a3-80e1eb0513b7')\"\n",
              "            title=\"Suggest charts\"\n",
              "            style=\"display:none;\">\n",
              "\n",
              "<svg xmlns=\"http://www.w3.org/2000/svg\" height=\"24px\"viewBox=\"0 0 24 24\"\n",
              "     width=\"24px\">\n",
              "    <g>\n",
              "        <path d=\"M19 3H5c-1.1 0-2 .9-2 2v14c0 1.1.9 2 2 2h14c1.1 0 2-.9 2-2V5c0-1.1-.9-2-2-2zM9 17H7v-7h2v7zm4 0h-2V7h2v10zm4 0h-2v-4h2v4z\"/>\n",
              "    </g>\n",
              "</svg>\n",
              "  </button>\n",
              "\n",
              "<style>\n",
              "  .colab-df-quickchart {\n",
              "      --bg-color: #E8F0FE;\n",
              "      --fill-color: #1967D2;\n",
              "      --hover-bg-color: #E2EBFA;\n",
              "      --hover-fill-color: #174EA6;\n",
              "      --disabled-fill-color: #AAA;\n",
              "      --disabled-bg-color: #DDD;\n",
              "  }\n",
              "\n",
              "  [theme=dark] .colab-df-quickchart {\n",
              "      --bg-color: #3B4455;\n",
              "      --fill-color: #D2E3FC;\n",
              "      --hover-bg-color: #434B5C;\n",
              "      --hover-fill-color: #FFFFFF;\n",
              "      --disabled-bg-color: #3B4455;\n",
              "      --disabled-fill-color: #666;\n",
              "  }\n",
              "\n",
              "  .colab-df-quickchart {\n",
              "    background-color: var(--bg-color);\n",
              "    border: none;\n",
              "    border-radius: 50%;\n",
              "    cursor: pointer;\n",
              "    display: none;\n",
              "    fill: var(--fill-color);\n",
              "    height: 32px;\n",
              "    padding: 0;\n",
              "    width: 32px;\n",
              "  }\n",
              "\n",
              "  .colab-df-quickchart:hover {\n",
              "    background-color: var(--hover-bg-color);\n",
              "    box-shadow: 0 1px 2px rgba(60, 64, 67, 0.3), 0 1px 3px 1px rgba(60, 64, 67, 0.15);\n",
              "    fill: var(--button-hover-fill-color);\n",
              "  }\n",
              "\n",
              "  .colab-df-quickchart-complete:disabled,\n",
              "  .colab-df-quickchart-complete:disabled:hover {\n",
              "    background-color: var(--disabled-bg-color);\n",
              "    fill: var(--disabled-fill-color);\n",
              "    box-shadow: none;\n",
              "  }\n",
              "\n",
              "  .colab-df-spinner {\n",
              "    border: 2px solid var(--fill-color);\n",
              "    border-color: transparent;\n",
              "    border-bottom-color: var(--fill-color);\n",
              "    animation:\n",
              "      spin 1s steps(1) infinite;\n",
              "  }\n",
              "\n",
              "  @keyframes spin {\n",
              "    0% {\n",
              "      border-color: transparent;\n",
              "      border-bottom-color: var(--fill-color);\n",
              "      border-left-color: var(--fill-color);\n",
              "    }\n",
              "    20% {\n",
              "      border-color: transparent;\n",
              "      border-left-color: var(--fill-color);\n",
              "      border-top-color: var(--fill-color);\n",
              "    }\n",
              "    30% {\n",
              "      border-color: transparent;\n",
              "      border-left-color: var(--fill-color);\n",
              "      border-top-color: var(--fill-color);\n",
              "      border-right-color: var(--fill-color);\n",
              "    }\n",
              "    40% {\n",
              "      border-color: transparent;\n",
              "      border-right-color: var(--fill-color);\n",
              "      border-top-color: var(--fill-color);\n",
              "    }\n",
              "    60% {\n",
              "      border-color: transparent;\n",
              "      border-right-color: var(--fill-color);\n",
              "    }\n",
              "    80% {\n",
              "      border-color: transparent;\n",
              "      border-right-color: var(--fill-color);\n",
              "      border-bottom-color: var(--fill-color);\n",
              "    }\n",
              "    90% {\n",
              "      border-color: transparent;\n",
              "      border-bottom-color: var(--fill-color);\n",
              "    }\n",
              "  }\n",
              "</style>\n",
              "\n",
              "  <script>\n",
              "    async function quickchart(key) {\n",
              "      const quickchartButtonEl =\n",
              "        document.querySelector('#' + key + ' button');\n",
              "      quickchartButtonEl.disabled = true;  // To prevent multiple clicks.\n",
              "      quickchartButtonEl.classList.add('colab-df-spinner');\n",
              "      try {\n",
              "        const charts = await google.colab.kernel.invokeFunction(\n",
              "            'suggestCharts', [key], {});\n",
              "      } catch (error) {\n",
              "        console.error('Error during call to suggestCharts:', error);\n",
              "      }\n",
              "      quickchartButtonEl.classList.remove('colab-df-spinner');\n",
              "      quickchartButtonEl.classList.add('colab-df-quickchart-complete');\n",
              "    }\n",
              "    (() => {\n",
              "      let quickchartButtonEl =\n",
              "        document.querySelector('#df-8b3a56e2-6282-4f79-b0a3-80e1eb0513b7 button');\n",
              "      quickchartButtonEl.style.display =\n",
              "        google.colab.kernel.accessAllowed ? 'block' : 'none';\n",
              "    })();\n",
              "  </script>\n",
              "</div>\n",
              "\n",
              "    </div>\n",
              "  </div>\n"
            ],
            "application/vnd.google.colaboratory.intrinsic+json": {
              "type": "dataframe",
              "variable_name": "metrics",
              "summary": "{\n  \"name\": \"metrics\",\n  \"rows\": 200,\n  \"fields\": [\n    {\n      \"column\": \"loss\",\n      \"properties\": {\n        \"dtype\": \"number\",\n        \"std\": 0.019554406352044466,\n        \"min\": 1.1532093286514282,\n        \"max\": 1.3377559185028076,\n        \"num_unique_values\": 200,\n        \"samples\": [\n          1.161852478981018,\n          1.1901459693908691,\n          1.176985740661621\n        ],\n        \"semantic_type\": \"\",\n        \"description\": \"\"\n      }\n    },\n    {\n      \"column\": \"accuracy\",\n      \"properties\": {\n        \"dtype\": \"number\",\n        \"std\": 0.011642274742668123,\n        \"min\": 0.36174193024635315,\n        \"max\": 0.49211862683296204,\n        \"num_unique_values\": 99,\n        \"samples\": [\n          0.4886454641819,\n          0.4823670983314514,\n          0.4871760606765747\n        ],\n        \"semantic_type\": \"\",\n        \"description\": \"\"\n      }\n    },\n    {\n      \"column\": \"val_loss\",\n      \"properties\": {\n        \"dtype\": \"number\",\n        \"std\": 0.00989233131138563,\n        \"min\": 1.1893346309661865,\n        \"max\": 1.300256609916687,\n        \"num_unique_values\": 200,\n        \"samples\": [\n          1.1929110288619995,\n          1.195975422859192,\n          1.1915677785873413\n        ],\n        \"semantic_type\": \"\",\n        \"description\": \"\"\n      }\n    },\n    {\n      \"column\": \"val_accuracy\",\n      \"properties\": {\n        \"dtype\": \"number\",\n        \"std\": 0.007755798838778128,\n        \"min\": 0.4088501036167145,\n        \"max\": 0.4855095148086548,\n        \"num_unique_values\": 61,\n        \"samples\": [\n          0.4088501036167145,\n          0.4618261158466339,\n          0.48021191358566284\n        ],\n        \"semantic_type\": \"\",\n        \"description\": \"\"\n      }\n    }\n  ]\n}"
            }
          },
          "metadata": {},
          "execution_count": 388
        }
      ]
    },
    {
      "cell_type": "code",
      "source": [
        "metrics[['loss','val_loss']].plot()"
      ],
      "metadata": {
        "colab": {
          "base_uri": "https://localhost:8080/",
          "height": 448
        },
        "id": "isxfQZVJ8BnY",
        "outputId": "7f8f10d9-59f8-4bd4-fcb3-179e2436b41e"
      },
      "execution_count": 390,
      "outputs": [
        {
          "output_type": "execute_result",
          "data": {
            "text/plain": [
              "<Axes: >"
            ]
          },
          "metadata": {},
          "execution_count": 390
        },
        {
          "output_type": "display_data",
          "data": {
            "text/plain": [
              "<Figure size 640x480 with 1 Axes>"
            ],
            "image/png": "[encoded data removed]"
          },
          "metadata": {}
        }
      ]
    },
    {
      "cell_type": "code",
      "source": [
        "x_test_predictions = np.argmax(model.predict(X_test), axis=1)\n"
      ],
      "metadata": {
        "colab": {
          "base_uri": "https://localhost:8080/"
        },
        "id": "3OCE6EbA8GhB",
        "outputId": "d09e0e8e-4642-4981-c04e-8f1e79904e87"
      },
      "execution_count": 391,
      "outputs": [
        {
          "output_type": "stream",
          "name": "stdout",
          "text": [
            "101/101 [==============================] - 0s 1ms/step\n"
          ]
        }
      ]
    },
    {
      "cell_type": "code",
      "source": [
        "x_test_predictions.shape\n"
      ],
      "metadata": {
        "colab": {
          "base_uri": "https://localhost:8080/"
        },
        "id": "xa_zURVQ-O35",
        "outputId": "dd2d86f5-70bf-4e21-dfde-cbabe79cf049"
      },
      "execution_count": 392,
      "outputs": [
        {
          "output_type": "execute_result",
          "data": {
            "text/plain": [
              "(3209,)"
            ]
          },
          "metadata": {},
          "execution_count": 392
        }
      ]
    },
    {
      "cell_type": "code",
      "source": [
        "y_test_truevalue = np.argmax(y_test,axis=1)\n"
      ],
      "metadata": {
        "id": "EzB9N1Le-RBk"
      },
      "execution_count": 393,
      "outputs": []
    },
    {
      "cell_type": "code",
      "source": [
        "y_test_truevalue.shape\n"
      ],
      "metadata": {
        "colab": {
          "base_uri": "https://localhost:8080/"
        },
        "id": "rPulgUGL-Sk0",
        "outputId": "ab013910-5673-4500-9ebd-ae7e299429a4"
      },
      "execution_count": 394,
      "outputs": [
        {
          "output_type": "execute_result",
          "data": {
            "text/plain": [
              "(3209,)"
            ]
          },
          "metadata": {},
          "execution_count": 394
        }
      ]
    },
    {
      "cell_type": "code",
      "source": [
        "print(confusion_matrix(y_test_truevalue,x_test_predictions))\n"
      ],
      "metadata": {
        "colab": {
          "base_uri": "https://localhost:8080/"
        },
        "id": "DSNq7dy_-UHd",
        "outputId": "d4bd4dcc-442e-47dc-8683-6a3194c9e173"
      },
      "execution_count": 395,
      "outputs": [
        {
          "output_type": "stream",
          "name": "stdout",
          "text": [
            "[[334 207 115 205]\n",
            " [161 243 210 100]\n",
            " [ 91 181 363 106]\n",
            " [179  83  46 585]]\n"
          ]
        }
      ]
    },
    {
      "cell_type": "code",
      "source": [
        "print(classification_report(y_test_truevalue,x_test_predictions))\n"
      ],
      "metadata": {
        "colab": {
          "base_uri": "https://localhost:8080/"
        },
        "id": "tFbCzYew-Vvh",
        "outputId": "d1d79f3a-ab66-4005-a8b7-b4d4b9f2445b"
      },
      "execution_count": 396,
      "outputs": [
        {
          "output_type": "stream",
          "name": "stdout",
          "text": [
            "              precision    recall  f1-score   support\n",
            "\n",
            "           0       0.44      0.39      0.41       861\n",
            "           1       0.34      0.34      0.34       714\n",
            "           2       0.49      0.49      0.49       741\n",
            "           3       0.59      0.66      0.62       893\n",
            "\n",
            "    accuracy                           0.48      3209\n",
            "   macro avg       0.46      0.47      0.47      3209\n",
            "weighted avg       0.47      0.48      0.47      3209\n",
            "\n"
          ]
        }
      ]
    },
    {
      "cell_type": "code",
      "source": [
        "model.save('customer_classification_model.h5')"
      ],
      "metadata": {
        "colab": {
          "base_uri": "https://localhost:8080/"
        },
        "id": "AmZxHpmp-Xc0",
        "outputId": "3d482365-59b0-4dcb-c554-641b6fe7f7e9"
      },
      "execution_count": 398,
      "outputs": [
        {
          "output_type": "stream",
          "name": "stderr",
          "text": [
            "/usr/local/lib/python3.10/dist-packages/keras/src/engine/training.py:3103: UserWarning: You are saving your model as an HDF5 file via `model.save()`. This file format is considered legacy. We recommend using instead the native Keras format, e.g. `model.save('my_model.keras')`.\n",
            "  saving_api.save_model(\n"
          ]
        }
      ]
    },
    {
      "cell_type": "code",
      "source": [
        "with open('customer_data.pickle', 'wb') as fh:\n",
        "   pickle.dump([X_train,y_train,X_test,y_test,cat_cols,df,O,L], fh)"
      ],
      "metadata": {
        "id": "p-freFA--ZDe"
      },
      "execution_count": 400,
      "outputs": []
    },
    {
      "cell_type": "code",
      "source": [
        "ai_brain = load_model('customer_classification_model.h5')"
      ],
      "metadata": {
        "id": "QIhJG283-guL"
      },
      "execution_count": 403,
      "outputs": []
    },
    {
      "cell_type": "code",
      "source": [
        "with open('customer_data.pickle', 'rb') as fh:\n",
        "   [X_train,y_train,X_test,y_test,cat_cols,df,O,L] = pickle.load(fh)"
      ],
      "metadata": {
        "id": "IYZoki5v-yTs"
      },
      "execution_count": 405,
      "outputs": []
    },
    {
      "cell_type": "code",
      "source": [
        "x_single_prediction = np.argmax(model.predict(X_test[1:2,:]), axis=1)\n"
      ],
      "metadata": {
        "colab": {
          "base_uri": "https://localhost:8080/"
        },
        "id": "VNkdE_J4-98-",
        "outputId": "378eb0ef-d95b-4bad-e837-44dc284560a9"
      },
      "execution_count": 406,
      "outputs": [
        {
          "output_type": "stream",
          "name": "stdout",
          "text": [
            "1/1 [==============================] - 0s 97ms/step\n"
          ]
        }
      ]
    },
    {
      "cell_type": "code",
      "source": [
        "print(x_single_prediction)\n"
      ],
      "metadata": {
        "colab": {
          "base_uri": "https://localhost:8080/"
        },
        "id": "zFzFJ0GC_U5l",
        "outputId": "4ff7c0f9-177e-4f4c-b598-899fe4752487"
      },
      "execution_count": 407,
      "outputs": [
        {
          "output_type": "stream",
          "name": "stdout",
          "text": [
            "[3]\n"
          ]
        }
      ]
    },
    {
      "cell_type": "code",
      "source": [
        "print(L.inverse_transform(x_single_prediction))"
      ],
      "metadata": {
        "colab": {
          "base_uri": "https://localhost:8080/"
        },
        "id": "qUj4ZJMk_Y80",
        "outputId": "ac2870e4-3332-47f3-98fd-e742c5251ab5"
      },
      "execution_count": 410,
      "outputs": [
        {
          "output_type": "stream",
          "name": "stdout",
          "text": [
            "['D']\n"
          ]
        }
      ]
    },
    {
      "cell_type": "code",
      "source": [],
      "metadata": {
        "id": "MCuKdB9d_aTY"
      },
      "execution_count": null,
      "outputs": []
    }
  ],
  "metadata": {
    "accelerator": "GPU",
    "colab": {
      "gpuType": "T4",
      "provenance": []
    },
    "kernelspec": {
      "display_name": "Python 3",
      "name": "python3"
    },
    "language_info": {
      "name": "python"
    }
  },
  "nbformat": 4,
  "nbformat_minor": 0
}